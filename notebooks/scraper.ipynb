{
 "cells": [
  {
   "cell_type": "code",
   "execution_count": 1,
   "id": "8d5ba056-1de0-4499-9132-cf875a739b78",
   "metadata": {},
   "outputs": [],
   "source": [
    "import pandas as pd\n",
    "from scipy.spatial.distance import squareform, pdist"
   ]
  },
  {
   "cell_type": "code",
   "execution_count": 2,
   "id": "8e686f37-0739-4f21-8e27-9f297a7c6376",
   "metadata": {},
   "outputs": [],
   "source": [
    "import logging\n",
    "import json\n",
    "import boto3\n",
    "from botocore.exceptions import ClientError\n",
    "\n",
    "logging.basicConfig(format='%(asctime)s %(levelname)s %(process)d --- %(name)s %(funcName)20s() : %(message)s',\n",
    "                    datefmt='%d-%b-%y %H:%M:%S', level=logging.INFO)\n",
    "\n",
    "\n",
    "def download_object(bucket: str, key: str):\n",
    "    s3_client = boto3.client('s3')\n",
    "    try:\n",
    "        s3_response_object = s3_client.get_object(Bucket=bucket, Key=key)\n",
    "        object_content = s3_response_object['Body'].read().decode('utf-8')\n",
    "        json_content = json.loads(object_content)\n",
    "        return json_content\n",
    "    except ClientError as e:\n",
    "        logging.error(e)\n"
   ]
  },
  {
   "cell_type": "code",
   "execution_count": 3,
   "id": "6cb5565b-c8ad-488c-92b2-7c22a10b21ed",
   "metadata": {},
   "outputs": [
    {
     "name": "stderr",
     "output_type": "stream",
     "text": [
      "18-Jun-21 16:00:22 INFO 84853 --- botocore.credentials                 load() : Found credentials in shared credentials file: ~/.aws/credentials\n"
     ]
    }
   ],
   "source": [
    "l = download_object('snowboard-finder', 'raw/mens.json')"
   ]
  },
  {
   "cell_type": "code",
   "execution_count": 19,
   "id": "7eff277f-00a2-4c49-a95e-9d8a58f2cfda",
   "metadata": {},
   "outputs": [
    {
     "data": {
      "text/html": [
       "<div>\n",
       "<style scoped>\n",
       "    .dataframe tbody tr th:only-of-type {\n",
       "        vertical-align: middle;\n",
       "    }\n",
       "\n",
       "    .dataframe tbody tr th {\n",
       "        vertical-align: top;\n",
       "    }\n",
       "\n",
       "    .dataframe thead th {\n",
       "        text-align: right;\n",
       "    }\n",
       "</style>\n",
       "<table border=\"1\" class=\"dataframe\">\n",
       "  <thead>\n",
       "    <tr style=\"text-align: right;\">\n",
       "      <th></th>\n",
       "      <th>id</th>\n",
       "      <th>ratings.Overall Rating</th>\n",
       "      <th>ratings.Riding Style</th>\n",
       "      <th>ratings.Riding Level</th>\n",
       "      <th>ratings.Fits Boot size (US)</th>\n",
       "      <th>ratings.Manufactured in</th>\n",
       "      <th>ratings.Shape</th>\n",
       "      <th>ratings.Camber Profile</th>\n",
       "      <th>ratings.Stance</th>\n",
       "      <th>ratings.Approx. Weight</th>\n",
       "      <th>...</th>\n",
       "      <th>ratings.Turn</th>\n",
       "      <th>ratings.Skidded</th>\n",
       "      <th>ratings.Flex</th>\n",
       "      <th>ratings.Buttering</th>\n",
       "      <th>ratings.Edge</th>\n",
       "      <th>meta_data.name</th>\n",
       "      <th>meta_data.gender</th>\n",
       "      <th>meta_data.url</th>\n",
       "      <th>meta_data.price</th>\n",
       "      <th>meta_data.image_url</th>\n",
       "    </tr>\n",
       "  </thead>\n",
       "  <tbody>\n",
       "    <tr>\n",
       "      <th>0</th>\n",
       "      <td>b'pcQjfBFdQmn6Aqep1PKrAJ8tpZY='</td>\n",
       "      <td>Liked it!</td>\n",
       "      <td>All Mountain Freestyle</td>\n",
       "      <td>Beginner - Expert</td>\n",
       "      <td>8-10</td>\n",
       "      <td>Tunisia by Nidecker</td>\n",
       "      <td>True Twin</td>\n",
       "      <td>Hybrid Camber</td>\n",
       "      <td>Centered</td>\n",
       "      <td>Feels Normal</td>\n",
       "      <td>...</td>\n",
       "      <td>Initiation</td>\n",
       "      <td>Turns</td>\n",
       "      <td>Medium</td>\n",
       "      <td>Semi-Easy</td>\n",
       "      <td>Hold</td>\n",
       "      <td>alloy-b-bomb-2016-2020-snowboard-review</td>\n",
       "      <td>mens</td>\n",
       "      <td>https://thegoodride.com/snowboard-reviews/allo...</td>\n",
       "      <td>$549</td>\n",
       "      <td>https://thegoodride.com/assets/lg-gallery/allo...</td>\n",
       "    </tr>\n",
       "    <tr>\n",
       "      <th>1</th>\n",
       "      <td>b'WdfFXZW/dvMLdhtMZs3ihVDCRHI='</td>\n",
       "      <td></td>\n",
       "      <td>Freestyle</td>\n",
       "      <td>Intermediate - Expert</td>\n",
       "      <td>8-10</td>\n",
       "      <td>Tunisia by Nidecker</td>\n",
       "      <td>True Twin</td>\n",
       "      <td>Hybrid Camber</td>\n",
       "      <td>Centered</td>\n",
       "      <td>Feels Normal</td>\n",
       "      <td>...</td>\n",
       "      <td>Initiation</td>\n",
       "      <td>Turns</td>\n",
       "      <td>Medium/Soft</td>\n",
       "      <td>Easy</td>\n",
       "      <td>Hold</td>\n",
       "      <td>alloy-b-bomb-gt-2020-snowboard-review</td>\n",
       "      <td>mens</td>\n",
       "      <td>https://thegoodride.com/snowboard-reviews/allo...</td>\n",
       "      <td>$0</td>\n",
       "      <td>https://thegoodride.com/assets/lg-gallery/allo...</td>\n",
       "    </tr>\n",
       "    <tr>\n",
       "      <th>2</th>\n",
       "      <td>b'GLXwggrHSpW/E/vBriKPps5WPmE='</td>\n",
       "      <td>Pretty Good</td>\n",
       "      <td>Freeride</td>\n",
       "      <td>Expert</td>\n",
       "      <td>8-10</td>\n",
       "      <td>Tunisia by Nidecker</td>\n",
       "      <td>Tapered Directional</td>\n",
       "      <td>Traditional Camber</td>\n",
       "      <td>Setback over 20mm</td>\n",
       "      <td>Feels Heavy</td>\n",
       "      <td>...</td>\n",
       "      <td>Initiation</td>\n",
       "      <td>Turns</td>\n",
       "      <td>Stiff</td>\n",
       "      <td>Hard</td>\n",
       "      <td>Hold</td>\n",
       "      <td>alloy-d-o-carbon-2019-2020-snowboard-review</td>\n",
       "      <td>mens</td>\n",
       "      <td>https://thegoodride.com/snowboard-reviews/allo...</td>\n",
       "      <td>$999</td>\n",
       "      <td>https://thegoodride.com/assets/lg-gallery/allo...</td>\n",
       "    </tr>\n",
       "    <tr>\n",
       "      <th>3</th>\n",
       "      <td>b'vyqJS+sM6x2avNeKZCtTt6aTMlA='</td>\n",
       "      <td></td>\n",
       "      <td>Alternative Freeride</td>\n",
       "      <td>Advanced - Expert</td>\n",
       "      <td>8-10</td>\n",
       "      <td>Tunisia by Nidecker</td>\n",
       "      <td>Tapered Directional</td>\n",
       "      <td>Directional Camber</td>\n",
       "      <td>Setback over 20mm</td>\n",
       "      <td>Feels Normal</td>\n",
       "      <td>...</td>\n",
       "      <td>Initiation</td>\n",
       "      <td>Turns</td>\n",
       "      <td>Medium/Stiff</td>\n",
       "      <td>Semi-Hard</td>\n",
       "      <td>Hold</td>\n",
       "      <td>alloy-darwin-flow-2020-snowboard-review</td>\n",
       "      <td>mens</td>\n",
       "      <td>https://thegoodride.com/snowboard-reviews/allo...</td>\n",
       "      <td>$0</td>\n",
       "      <td>https://thegoodride.com/assets/lg-gallery/allo...</td>\n",
       "    </tr>\n",
       "    <tr>\n",
       "      <th>4</th>\n",
       "      <td>b'IbVxVGqf7kOWjwmJu3U0lxr16gk='</td>\n",
       "      <td>Liked it!</td>\n",
       "      <td>Freeride</td>\n",
       "      <td>Expert</td>\n",
       "      <td>8-10</td>\n",
       "      <td>Tunisia by Nidecker</td>\n",
       "      <td>Tapered Directional</td>\n",
       "      <td>Mostly Camber</td>\n",
       "      <td>Setback over 20mm</td>\n",
       "      <td>Feels Normal</td>\n",
       "      <td>...</td>\n",
       "      <td>Initiation</td>\n",
       "      <td>Turns</td>\n",
       "      <td>Medium/Stiff</td>\n",
       "      <td>Hard</td>\n",
       "      <td>Hold</td>\n",
       "      <td>alloy-do-7x-2017-snowboard-review</td>\n",
       "      <td>mens</td>\n",
       "      <td>https://thegoodride.com/snowboard-reviews/allo...</td>\n",
       "      <td>$749</td>\n",
       "      <td>https://thegoodride.com/assets/lg-gallery/allo...</td>\n",
       "    </tr>\n",
       "  </tbody>\n",
       "</table>\n",
       "<p>5 rows × 30 columns</p>\n",
       "</div>"
      ],
      "text/plain": [
       "                                id ratings.Overall Rating  \\\n",
       "0  b'pcQjfBFdQmn6Aqep1PKrAJ8tpZY='              Liked it!   \n",
       "1  b'WdfFXZW/dvMLdhtMZs3ihVDCRHI='                          \n",
       "2  b'GLXwggrHSpW/E/vBriKPps5WPmE='            Pretty Good   \n",
       "3  b'vyqJS+sM6x2avNeKZCtTt6aTMlA='                          \n",
       "4  b'IbVxVGqf7kOWjwmJu3U0lxr16gk='              Liked it!   \n",
       "\n",
       "     ratings.Riding Style   ratings.Riding Level ratings.Fits Boot size (US)  \\\n",
       "0  All Mountain Freestyle      Beginner - Expert                        8-10   \n",
       "1               Freestyle  Intermediate - Expert                        8-10   \n",
       "2                Freeride                 Expert                        8-10   \n",
       "3    Alternative Freeride      Advanced - Expert                        8-10   \n",
       "4                Freeride                 Expert                        8-10   \n",
       "\n",
       "  ratings.Manufactured in        ratings.Shape ratings.Camber Profile  \\\n",
       "0     Tunisia by Nidecker            True Twin          Hybrid Camber   \n",
       "1     Tunisia by Nidecker            True Twin          Hybrid Camber   \n",
       "2     Tunisia by Nidecker  Tapered Directional     Traditional Camber   \n",
       "3     Tunisia by Nidecker  Tapered Directional     Directional Camber   \n",
       "4     Tunisia by Nidecker  Tapered Directional          Mostly Camber   \n",
       "\n",
       "      ratings.Stance ratings.Approx. Weight  ... ratings.Turn ratings.Skidded  \\\n",
       "0           Centered           Feels Normal  ...   Initiation           Turns   \n",
       "1           Centered           Feels Normal  ...   Initiation           Turns   \n",
       "2  Setback over 20mm            Feels Heavy  ...   Initiation           Turns   \n",
       "3  Setback over 20mm           Feels Normal  ...   Initiation           Turns   \n",
       "4  Setback over 20mm           Feels Normal  ...   Initiation           Turns   \n",
       "\n",
       "   ratings.Flex ratings.Buttering ratings.Edge  \\\n",
       "0        Medium         Semi-Easy         Hold   \n",
       "1   Medium/Soft              Easy         Hold   \n",
       "2         Stiff              Hard         Hold   \n",
       "3  Medium/Stiff         Semi-Hard         Hold   \n",
       "4  Medium/Stiff              Hard         Hold   \n",
       "\n",
       "                                meta_data.name meta_data.gender  \\\n",
       "0      alloy-b-bomb-2016-2020-snowboard-review             mens   \n",
       "1        alloy-b-bomb-gt-2020-snowboard-review             mens   \n",
       "2  alloy-d-o-carbon-2019-2020-snowboard-review             mens   \n",
       "3      alloy-darwin-flow-2020-snowboard-review             mens   \n",
       "4            alloy-do-7x-2017-snowboard-review             mens   \n",
       "\n",
       "                                       meta_data.url meta_data.price  \\\n",
       "0  https://thegoodride.com/snowboard-reviews/allo...            $549   \n",
       "1  https://thegoodride.com/snowboard-reviews/allo...              $0   \n",
       "2  https://thegoodride.com/snowboard-reviews/allo...            $999   \n",
       "3  https://thegoodride.com/snowboard-reviews/allo...              $0   \n",
       "4  https://thegoodride.com/snowboard-reviews/allo...            $749   \n",
       "\n",
       "                                 meta_data.image_url  \n",
       "0  https://thegoodride.com/assets/lg-gallery/allo...  \n",
       "1  https://thegoodride.com/assets/lg-gallery/allo...  \n",
       "2  https://thegoodride.com/assets/lg-gallery/allo...  \n",
       "3  https://thegoodride.com/assets/lg-gallery/allo...  \n",
       "4  https://thegoodride.com/assets/lg-gallery/allo...  \n",
       "\n",
       "[5 rows x 30 columns]"
      ]
     },
     "execution_count": 19,
     "metadata": {},
     "output_type": "execute_result"
    }
   ],
   "source": [
    "df = pd.json_normalize(l)\n",
    "df.head()"
   ]
  },
  {
   "cell_type": "code",
   "execution_count": 49,
   "id": "271ca555-2efb-4072-bfa8-d67c238304fc",
   "metadata": {},
   "outputs": [
    {
     "data": {
      "text/plain": [
       "\"b'pcQjfBFdQmn6Aqep1PKrAJ8tpZY='\""
      ]
     },
     "execution_count": 49,
     "metadata": {},
     "output_type": "execute_result"
    }
   ],
   "source": [
    "df['id'][0]"
   ]
  },
  {
   "cell_type": "code",
   "execution_count": 20,
   "id": "cb2bcaa5-ef7f-42b0-acef-e3ea02d041d2",
   "metadata": {},
   "outputs": [],
   "source": [
    "sel_cols = ['ratings.Riding Style',\n",
    "       'ratings.Riding Level', 'ratings.Shape', 'ratings.Camber Profile',\n",
    "       'ratings.Stance', 'ratings.Approx. Weight', 'ratings.Powder',\n",
    "       'ratings.Turning', 'ratings.Carving', 'ratings.Speed', 'ratings.Uneven',\n",
    "       'ratings.Switch', 'ratings.Jumps', 'ratings.Jibbing', 'ratings.Pipe',\n",
    "       'ratings.On', 'ratings.Turn', 'ratings.Skidded', 'ratings.Flex',\n",
    "       'ratings.Buttering', 'ratings.Edge']\n",
    "\n",
    "meta_cols = ['id', \n",
    "             'meta_data.name', \n",
    "             'meta_data.name',\n",
    "             'meta_data.gender',\n",
    "             'meta_data.url',\n",
    "             'meta_data.price',\n",
    "             'meta_data.image_url'\n",
    "            ]"
   ]
  },
  {
   "cell_type": "code",
   "execution_count": 21,
   "id": "ff5885a4-106d-4ed2-9dce-504032c234f3",
   "metadata": {},
   "outputs": [],
   "source": [
    "df_train = df[sel_cols]"
   ]
  },
  {
   "cell_type": "code",
   "execution_count": 22,
   "id": "613efb16-16dc-4026-bb08-40368d2a091b",
   "metadata": {},
   "outputs": [],
   "source": [
    "def distance_function(r, algo='jaccard'):\n",
    "    dists = pdist(r, algo)\n",
    "    \n",
    "    return pd.DataFrame(squareform(dists))"
   ]
  },
  {
   "cell_type": "code",
   "execution_count": 24,
   "id": "fde71720-64d7-4684-90ba-a0d595b8ee7c",
   "metadata": {},
   "outputs": [],
   "source": [
    "df_dist = distance_function(pd.get_dummies(df_train, columns=sel_cols))"
   ]
  },
  {
   "cell_type": "code",
   "execution_count": 40,
   "id": "8375b0fa-7550-4adf-a42a-4c470741c2cc",
   "metadata": {},
   "outputs": [],
   "source": [
    "sim_boards = []\n",
    "for idx, row in df_dist.iterrows():\n",
    "    \n",
    "    target = df_dist.iloc[:, idx].nsmallest(11)\n",
    "    topn_index = target[target !=0].index\n",
    "#     df_target = pd.merge(df_final['id'][target.index].reset_index(), target.reset_index(), on='index')\n",
    "#     df_target.columns = ['index', 'id', 'sim_value']\n",
    "#     sim_dict = pd.Series(df_target['sim_value'].values, index=df_target['id']).to_dict()\n",
    "#     sim_boards.append(sim_dict)"
   ]
  },
  {
   "cell_type": "code",
   "execution_count": 48,
   "id": "28927bf5-76f0-41e7-9271-072be7a179f7",
   "metadata": {},
   "outputs": [
    {
     "ename": "SyntaxError",
     "evalue": "unexpected EOF while parsing (<ipython-input-48-32c8a35aebd9>, line 1)",
     "output_type": "error",
     "traceback": [
      "\u001b[0;36m  File \u001b[0;32m\"<ipython-input-48-32c8a35aebd9>\"\u001b[0;36m, line \u001b[0;32m1\u001b[0m\n\u001b[0;31m    encode(df['id'][topn_index][6]\u001b[0m\n\u001b[0m                                  ^\u001b[0m\n\u001b[0;31mSyntaxError\u001b[0m\u001b[0;31m:\u001b[0m unexpected EOF while parsing\n"
     ]
    }
   ],
   "source": [
    "encode(df['id'][topn_index][6]"
   ]
  },
  {
   "cell_type": "code",
   "execution_count": 41,
   "id": "edaafcbd-7d7f-4731-8abe-91242a1f22b6",
   "metadata": {},
   "outputs": [
    {
     "data": {
      "text/plain": [
       "Int64Index([6, 15, 7, 0, 11, 18, 1, 4, 8, 10], dtype='int64')"
      ]
     },
     "execution_count": 41,
     "metadata": {},
     "output_type": "execute_result"
    }
   ],
   "source": [
    "topn_index"
   ]
  },
  {
   "cell_type": "code",
   "execution_count": null,
   "id": "8f5331a2-7391-4860-8409-7507ab68ca3f",
   "metadata": {},
   "outputs": [],
   "source": []
  }
 ],
 "metadata": {
  "kernelspec": {
   "display_name": "Python 3",
   "language": "python",
   "name": "python3"
  },
  "language_info": {
   "codemirror_mode": {
    "name": "ipython",
    "version": 3
   },
   "file_extension": ".py",
   "mimetype": "text/x-python",
   "name": "python",
   "nbconvert_exporter": "python",
   "pygments_lexer": "ipython3",
   "version": "3.8.10"
  }
 },
 "nbformat": 4,
 "nbformat_minor": 5
}
