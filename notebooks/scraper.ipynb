{
 "cells": [
  {
   "cell_type": "code",
   "execution_count": 8,
   "id": "35b5be60-c810-49ce-873b-d9449de1d05a",
   "metadata": {},
   "outputs": [
    {
     "name": "stderr",
     "output_type": "stream",
     "text": [
      "\n",
      "\n",
      "18-Jun-21 15:38:02 INFO 82779 --- WDM                  log() : \n",
      "\n",
      "====== WebDriver manager ======\n",
      "18-Jun-21 15:38:02 INFO 82779 --- WDM                  log() : ====== WebDriver manager ======\n",
      "Current google-chrome version is 91.0.4472\n",
      "18-Jun-21 15:38:02 INFO 82779 --- WDM                  log() : Current google-chrome version is 91.0.4472\n",
      "Get LATEST driver version for 91.0.4472\n",
      "18-Jun-21 15:38:02 INFO 82779 --- WDM                  log() : Get LATEST driver version for 91.0.4472\n",
      "Driver [/Users/imaniai/.wdm/drivers/chromedriver/mac64/91.0.4472.101/chromedriver] found in cache\n",
      "18-Jun-21 15:38:02 INFO 82779 --- WDM                  log() : Driver [/Users/imaniai/.wdm/drivers/chromedriver/mac64/91.0.4472.101/chromedriver] found in cache\n"
     ]
    }
   ],
   "source": [
    "import time\n",
    "import json\n",
    "import base64\n",
    "import hashlib\n",
    "import logging\n",
    "from tqdm import tqdm\n",
    "from selenium import webdriver\n",
    "\n",
    "from webdriver_manager.chrome import ChromeDriverManager\n",
    "\n",
    "driver = webdriver.Chrome(ChromeDriverManager().install())\n",
    "\n",
    "\n",
    "logging.basicConfig(format='%(asctime)s %(levelname)s %(process)d --- %(name)s %(funcName)20s() : %(message)s',\n",
    "                    datefmt='%d-%b-%y %H:%M:%S', level=logging.INFO)"
   ]
  },
  {
   "cell_type": "code",
   "execution_count": 31,
   "id": "a446f079-dfa5-4b2d-b5f3-098ef566a8df",
   "metadata": {},
   "outputs": [],
   "source": [
    "class GearScraper:\n",
    "    logger = logging.getLogger('GearScraper')\n",
    "\n",
    "    def __init__(self):\n",
    "        self.driver = webdriver.Chrome(ChromeDriverManager().install())\n",
    "#         self._tmp_folder = '/tmp/img-scrpr-chrm/'\n",
    "#         self.driver = webdriver.Chrome(executable_path='/usr/bin/chromedriver',\n",
    "#                                        options=self.__get_default_chrome_options())\n",
    "\n",
    "    def parse(self, gender):\n",
    "\n",
    "        board_list = []\n",
    "\n",
    "        url_list = self.__get_boards_url(gender, self.driver)\n",
    "        for url in tqdm(url_list[:5], desc=\"Getting ratings...\"):\n",
    "            single_board_dict = {}\n",
    "            single_board_dict['id'] = self.__hashme(url)\n",
    "            single_board_dict['ratings'] = self.__get_ratings(url, self.driver)\n",
    "            single_board_dict['meta_data'] = self.__get_meta_data(url, gender, self.driver)\n",
    "            board_list.append(single_board_dict)\n",
    "        print(board_list)\n",
    "#         self.logger.info(\"All boards have been processed.\")\n",
    "\n",
    "#         board_list_json = json.dumps(board_list)\n",
    "#         return board_list_json\n",
    "\n",
    "    @staticmethod\n",
    "    def __hashme(x):\n",
    "        unique_id = base64.b64encode(hashlib.sha1(x.encode('UTF-8')).digest())\n",
    "        return str(unique_id)\n",
    "\n",
    "    def __get_boards_url(self, gender, browser):\n",
    "        search_url = f\"https://thegoodride.com/snowboard-reviews/?{gender}=1\"\n",
    "        board_urls = []\n",
    "\n",
    "        browser.get(search_url)\n",
    "        # click and wait\n",
    "        button = browser.find_element_by_xpath('/html/body/div[5]/div/div/div/div[3]/form/div[1]/div[42]/a')\n",
    "        browser.execute_script(\"arguments[0].click();\", button)\n",
    "        self.logger.info(f\"Loading main page for \\033[1m{gender}\\033[0m boards...\")\n",
    "        time.sleep(10)\n",
    "\n",
    "        elems = browser.find_elements_by_xpath('//*[@id=\"applications\"]/*/a[@href]')\n",
    "        for elem in tqdm(elems, desc=\"Fetching links \"):\n",
    "            board_urls.append(elem.get_attribute(\"href\"))\n",
    "\n",
    "        return board_urls\n",
    "\n",
    "    @staticmethod\n",
    "    def __get_ratings(url, driver):\n",
    "        rating_dict = {}\n",
    "        driver.get(url)\n",
    "\n",
    "        # top-right table\n",
    "        elems = driver.find_elements_by_xpath('//*[@id=\"post-\"]/div[1]/div[2]/div[1]/table/tbody/*')\n",
    "        for row in elems:\n",
    "            k = row.find_elements_by_tag_name(\"td\")[0]\n",
    "            v = row.find_elements_by_tag_name(\"td\")[1]\n",
    "            rating_dict[k.text] = v.text\n",
    "\n",
    "        # top-left table\n",
    "        elems = driver.find_elements_by_xpath('//*[@id=\"post-\"]/div[1]/div[2]/div[2]/table/tbody/*')\n",
    "        for item in [e.text.split() for e in elems]:\n",
    "            rating_dict[item[0]] = item[1]\n",
    "\n",
    "        # bottom table\n",
    "        elems = driver.find_elements_by_xpath('//*[@id=\"post-\"]/div[1]/div[2]/div[3]/*/table/tbody/*')\n",
    "        for item in [e.text.split() for e in elems]:\n",
    "            rating_dict[item[0]] = item[1]\n",
    "        return rating_dict\n",
    "\n",
    "    @staticmethod\n",
    "    def __get_meta_data(url, gender, driver):\n",
    "\n",
    "        meta_dict = {}\n",
    "\n",
    "        driver.get(url)\n",
    "        meta_dict['name'] = url.rsplit('/', 1)[1]\n",
    "        meta_dict['gender'] = gender\n",
    "        meta_dict['url'] = url\n",
    "\n",
    "        # Get price data\n",
    "        for e in driver.find_elements_by_xpath('//*[@id=\"post-\"]/div[1]/div[1]/div/div[1]'):\n",
    "            meta_dict['price'] = e.text.rsplit(' ', 1)[1]\n",
    "\n",
    "        # get image url\n",
    "        for e in driver.find_elements_by_xpath('//*[@id=\"post-\"]/div[1]/div[1]/div/div[2]/a'):\n",
    "            meta_dict['image_url'] = e.get_attribute(\"href\")\n",
    "\n",
    "        return meta_dict\n",
    "\n",
    "    def close_connection(self):\n",
    "        self.driver.quit()\n",
    "\n",
    "    def __get_default_chrome_options(self):\n",
    "        chrome_options = webdriver.ChromeOptions()\n",
    "\n",
    "        lambda_options = [\n",
    "            '--autoplay-policy=user-gesture-required',\n",
    "            '--disable-background-networking',\n",
    "            '--disable-background-timer-throttling',\n",
    "            '--disable-backgrounding-occluded-windows',\n",
    "            '--disable-breakpad',\n",
    "            '--disable-client-side-phishing-detection',\n",
    "            '--disable-component-update',\n",
    "            '--disable-default-apps',\n",
    "            '--disable-dev-shm-usage',\n",
    "            '--disable-domain-reliability',\n",
    "            '--disable-extensions',\n",
    "            '--disable-features=AudioServiceOutOfProcess',\n",
    "            '--disable-hang-monitor',\n",
    "            '--disable-ipc-flooding-protection',\n",
    "            '--disable-notifications',\n",
    "            '--disable-offer-store-unmasked-wallet-cards',\n",
    "            '--disable-popup-blocking',\n",
    "            '--disable-print-preview',\n",
    "            '--disable-prompt-on-repost',\n",
    "            '--disable-renderer-backgrounding',\n",
    "            '--disable-setuid-sandbox',\n",
    "            '--disable-speech-api',\n",
    "            '--disable-sync',\n",
    "            '--disk-cache-size=33554432',\n",
    "            '--hide-scrollbars',\n",
    "            '--ignore-gpu-blacklist',\n",
    "            '--ignore-certificate-errors',\n",
    "            '--metrics-recording-only',\n",
    "            '--mute-audio',\n",
    "            '--no-default-browser-check',\n",
    "            '--no-first-run',\n",
    "            '--no-pings',\n",
    "            '--no-sandbox',\n",
    "            '--no-zygote',\n",
    "            '--password-store=basic',\n",
    "            '--use-gl=swiftshader',\n",
    "            '--use-mock-keychain',\n",
    "            '--single-process',\n",
    "            '--headless']\n",
    "\n",
    "        # chrome_options.add_argument('--disable-gpu')\n",
    "        for argument in lambda_options:\n",
    "            chrome_options.add_argument(argument)\n",
    "        chrome_options.add_argument('--user-data-dir={}'.format(self._tmp_folder + '/user-data'))\n",
    "        chrome_options.add_argument('--data-path={}'.format(self._tmp_folder + '/data-path'))\n",
    "        chrome_options.add_argument('--homedir={}'.format(self._tmp_folder))\n",
    "        chrome_options.add_argument('--disk-cache-dir={}'.format(self._tmp_folder + '/cache-dir'))\n",
    "\n",
    "        return chrome_options"
   ]
  },
  {
   "cell_type": "code",
   "execution_count": 32,
   "id": "e195bdb1-6a1e-4109-8590-f57bfbe055d0",
   "metadata": {},
   "outputs": [
    {
     "name": "stderr",
     "output_type": "stream",
     "text": [
      "\n",
      "\n",
      "18-Jun-21 15:49:36 INFO 82779 --- WDM                  log() : \n",
      "\n",
      "====== WebDriver manager ======\n",
      "18-Jun-21 15:49:36 INFO 82779 --- WDM                  log() : ====== WebDriver manager ======\n",
      "Current google-chrome version is 91.0.4472\n",
      "18-Jun-21 15:49:36 INFO 82779 --- WDM                  log() : Current google-chrome version is 91.0.4472\n",
      "Get LATEST driver version for 91.0.4472\n",
      "18-Jun-21 15:49:36 INFO 82779 --- WDM                  log() : Get LATEST driver version for 91.0.4472\n",
      "Driver [/Users/imaniai/.wdm/drivers/chromedriver/mac64/91.0.4472.101/chromedriver] found in cache\n",
      "18-Jun-21 15:49:36 INFO 82779 --- WDM                  log() : Driver [/Users/imaniai/.wdm/drivers/chromedriver/mac64/91.0.4472.101/chromedriver] found in cache\n"
     ]
    }
   ],
   "source": [
    "scr = GearScraper()"
   ]
  },
  {
   "cell_type": "code",
   "execution_count": 33,
   "id": "db9605a5-67d5-4416-ab36-06e4d68b5fc6",
   "metadata": {},
   "outputs": [
    {
     "name": "stderr",
     "output_type": "stream",
     "text": [
      "18-Jun-21 15:49:43 INFO 82779 --- GearScraper     __get_boards_url() : Loading main page for \u001b[1mmens\u001b[0m boards...\n",
      "Fetching links : 100%|██████████| 434/434 [00:01<00:00, 266.52it/s]\n",
      "Getting ratings...: 100%|██████████| 5/5 [00:21<00:00,  4.39s/it]"
     ]
    },
    {
     "name": "stdout",
     "output_type": "stream",
     "text": [
      "[{'id': \"b'pcQjfBFdQmn6Aqep1PKrAJ8tpZY='\", 'ratings': {'Overall Rating': 'Liked it!', 'Riding Style': 'All Mountain Freestyle', 'Riding Level': 'Beginner - Expert', 'Fits Boot size (US)': '8-10', 'Manufactured in': 'Tunisia by Nidecker', 'Shape': 'True Twin', 'Camber Profile': 'Hybrid Camber', 'Stance': 'Centered', 'Approx. Weight': 'Feels Normal', 'Powder': 'Average', 'Turning': 'Experience', 'Carving': 'Good', 'Speed': 'Great', 'Uneven': 'Terrain', 'Switch': 'Great', 'Jumps': 'Good', 'Jibbing': 'Average', 'Pipe': 'Great', 'On': 'Snow', 'Turn': 'Initiation', 'Skidded': 'Turns', 'Flex': 'Medium', 'Buttering': 'Semi-Easy', 'Edge': 'Hold'}, 'meta_data': {'name': 'alloy-b-bomb-2016-2020-snowboard-review', 'gender': 'mens', 'url': 'https://thegoodride.com/snowboard-reviews/alloy-b-bomb-2016-2020-snowboard-review', 'price': '$549', 'image_url': 'https://thegoodride.com/assets/lg-gallery/alloy/snowboards/b-bomb/alloy-b-bomb.jpg'}}, {'id': \"b'WdfFXZW/dvMLdhtMZs3ihVDCRHI='\", 'ratings': {'Overall Rating': '', 'Riding Style': 'Freestyle', 'Riding Level': 'Intermediate - Expert', 'Fits Boot size (US)': '8-10', 'Manufactured in': 'Tunisia by Nidecker', 'Shape': 'True Twin', 'Camber Profile': 'Hybrid Camber', 'Stance': 'Centered', 'Approx. Weight': 'Feels Normal', 'Powder': 'Average', 'Turning': 'Experience', 'Carving': 'Average', 'Speed': 'Average', 'Uneven': 'Terrain', 'Switch': 'Great', 'Jumps': 'Good', 'Jibbing': 'Great', 'Pipe': 'Good', 'On': 'Snow', 'Turn': 'Initiation', 'Skidded': 'Turns', 'Flex': 'Medium/Soft', 'Buttering': 'Easy', 'Edge': 'Hold'}, 'meta_data': {'name': 'alloy-b-bomb-gt-2020-snowboard-review', 'gender': 'mens', 'url': 'https://thegoodride.com/snowboard-reviews/alloy-b-bomb-gt-2020-snowboard-review', 'price': '$0', 'image_url': 'https://thegoodride.com/assets/lg-gallery/alloy/snowboards/b-bomb-gt/alloy-b-bomb-gt.jpg'}}, {'id': \"b'GLXwggrHSpW/E/vBriKPps5WPmE='\", 'ratings': {'Overall Rating': 'Pretty Good', 'Riding Style': 'Freeride', 'Riding Level': 'Expert', 'Fits Boot size (US)': '8-10', 'Manufactured in': 'Tunisia by Nidecker', 'Shape': 'Tapered Directional', 'Camber Profile': 'Traditional Camber', 'Stance': 'Setback over 20mm', 'Approx. Weight': 'Feels Heavy', 'Powder': 'Poor', 'Turning': 'Experience', 'Carving': 'Excellent', 'Speed': 'Excellent', 'Uneven': 'Terrain', 'Switch': 'Average', 'Jumps': 'Good', 'Jibbing': 'Poor', 'Pipe': 'Poor', 'On': 'Snow', 'Turn': 'Initiation', 'Skidded': 'Turns', 'Flex': 'Stiff', 'Buttering': 'Hard', 'Edge': 'Hold'}, 'meta_data': {'name': 'alloy-d-o-carbon-2019-2020-snowboard-review', 'gender': 'mens', 'url': 'https://thegoodride.com/snowboard-reviews/alloy-d-o-carbon-2019-2020-snowboard-review', 'price': '$999', 'image_url': 'https://thegoodride.com/assets/lg-gallery/alloy/snowboards/d-o-carbon/alloy-d-o-carbon.jpg'}}, {'id': \"b'vyqJS+sM6x2avNeKZCtTt6aTMlA='\", 'ratings': {'Overall Rating': '', 'Riding Style': 'Alternative Freeride', 'Riding Level': 'Advanced - Expert', 'Fits Boot size (US)': '8-10', 'Manufactured in': 'Tunisia by Nidecker', 'Shape': 'Tapered Directional', 'Camber Profile': 'Directional Camber', 'Stance': 'Setback over 20mm', 'Approx. Weight': 'Feels Normal', 'Powder': 'Good', 'Turning': 'Experience', 'Carving': 'Great', 'Speed': 'Great', 'Uneven': 'Terrain', 'Switch': 'Poor', 'Jumps': 'Average', 'Jibbing': 'Poor', 'Pipe': 'Average', 'On': 'Snow', 'Turn': 'Initiation', 'Skidded': 'Turns', 'Flex': 'Medium/Stiff', 'Buttering': 'Semi-Hard', 'Edge': 'Hold'}, 'meta_data': {'name': 'alloy-darwin-flow-2020-snowboard-review', 'gender': 'mens', 'url': 'https://thegoodride.com/snowboard-reviews/alloy-darwin-flow-2020-snowboard-review', 'price': '$0', 'image_url': 'https://thegoodride.com/assets/lg-gallery/alloy/snowboards/darwin-flow/alloy-darwin-flow.jpg'}}, {'id': \"b'IbVxVGqf7kOWjwmJu3U0lxr16gk='\", 'ratings': {'Overall Rating': 'Liked it!', 'Riding Style': 'Freeride', 'Riding Level': 'Expert', 'Fits Boot size (US)': '8-10', 'Manufactured in': 'Tunisia by Nidecker', 'Shape': 'Tapered Directional', 'Camber Profile': 'Mostly Camber', 'Stance': 'Setback over 20mm', 'Approx. Weight': 'Feels Normal', 'Powder': 'Poor', 'Turning': 'Experience', 'Carving': 'Excellent', 'Speed': 'Great', 'Uneven': 'Terrain', 'Switch': 'Average', 'Jumps': 'Average', 'Jibbing': 'Poor', 'Pipe': 'Poor', 'On': 'Snow', 'Turn': 'Initiation', 'Skidded': 'Turns', 'Flex': 'Medium/Stiff', 'Buttering': 'Hard', 'Edge': 'Hold'}, 'meta_data': {'name': 'alloy-do-7x-2017-snowboard-review', 'gender': 'mens', 'url': 'https://thegoodride.com/snowboard-reviews/alloy-do-7x-2017-snowboard-review', 'price': '$749', 'image_url': 'https://thegoodride.com/assets/lg-gallery/alloy/snowboards/do-7x/alloy-do-7x.jpg'}}]\n"
     ]
    },
    {
     "name": "stderr",
     "output_type": "stream",
     "text": [
      "\n"
     ]
    }
   ],
   "source": [
    "scr.parse('mens')"
   ]
  },
  {
   "cell_type": "code",
   "execution_count": null,
   "id": "36e201e0-5549-484e-8712-6f1fbd158a4f",
   "metadata": {},
   "outputs": [],
   "source": []
  },
  {
   "cell_type": "code",
   "execution_count": null,
   "id": "575b5e75-1bd5-4e0e-bfca-7de0c302ae9b",
   "metadata": {},
   "outputs": [],
   "source": []
  },
  {
   "cell_type": "code",
   "execution_count": null,
   "id": "6ce6b5b6-5dcf-437a-b634-b612c12328c9",
   "metadata": {},
   "outputs": [],
   "source": []
  },
  {
   "cell_type": "code",
   "execution_count": null,
   "id": "774d5d89-b09c-47ae-aa40-8849c112e3f1",
   "metadata": {},
   "outputs": [],
   "source": []
  },
  {
   "cell_type": "code",
   "execution_count": null,
   "id": "605cc868-e9e9-44ee-9bc7-dcff2333cb55",
   "metadata": {},
   "outputs": [],
   "source": []
  },
  {
   "cell_type": "code",
   "execution_count": null,
   "id": "023d6b33-ccc8-4e72-8f47-c09971d66cf3",
   "metadata": {},
   "outputs": [],
   "source": []
  },
  {
   "cell_type": "code",
   "execution_count": null,
   "id": "8d5ba056-1de0-4499-9132-cf875a739b78",
   "metadata": {},
   "outputs": [],
   "source": [
    "import pandas as pd\n",
    "from scipy.spatial.distance import squareform, pdist"
   ]
  },
  {
   "cell_type": "code",
   "execution_count": null,
   "id": "8e686f37-0739-4f21-8e27-9f297a7c6376",
   "metadata": {},
   "outputs": [],
   "source": [
    "import logging\n",
    "import json\n",
    "import boto3\n",
    "from botocore.exceptions import ClientError\n",
    "\n",
    "logging.basicConfig(format='%(asctime)s %(levelname)s %(process)d --- %(name)s %(funcName)20s() : %(message)s',\n",
    "                    datefmt='%d-%b-%y %H:%M:%S', level=logging.INFO)\n",
    "\n",
    "\n",
    "def download_object(bucket: str, key: str):\n",
    "    s3_client = boto3.client('s3')\n",
    "    try:\n",
    "        s3_response_object = s3_client.get_object(Bucket=bucket, Key=key)\n",
    "        object_content = s3_response_object['Body'].read().decode('utf-8')\n",
    "        json_content = json.loads(object_content)\n",
    "        return json_content\n",
    "    except ClientError as e:\n",
    "        logging.error(e)\n"
   ]
  },
  {
   "cell_type": "code",
   "execution_count": null,
   "id": "6cb5565b-c8ad-488c-92b2-7c22a10b21ed",
   "metadata": {},
   "outputs": [],
   "source": [
    "l = download_object('snowboard-finder', 'raw/mens.json')"
   ]
  },
  {
   "cell_type": "code",
   "execution_count": null,
   "id": "7eff277f-00a2-4c49-a95e-9d8a58f2cfda",
   "metadata": {},
   "outputs": [],
   "source": [
    "df = pd.json_normalize(l)"
   ]
  },
  {
   "cell_type": "code",
   "execution_count": null,
   "id": "f03e077b-3f11-4597-92f5-c3110f8d649a",
   "metadata": {},
   "outputs": [],
   "source": [
    "df['meta_data.url']"
   ]
  },
  {
   "cell_type": "code",
   "execution_count": null,
   "id": "cb2bcaa5-ef7f-42b0-acef-e3ea02d041d2",
   "metadata": {},
   "outputs": [],
   "source": [
    "sel_cols = ['ratings.Riding Style',\n",
    "       'ratings.Riding Level', 'ratings.Fits Boot size (US)',\n",
    "       'ratings.Manufactured in', 'ratings.Shape', 'ratings.Camber Profile',\n",
    "       'ratings.Stance', 'ratings.Approx. Weight', 'ratings.Powder',\n",
    "       'ratings.Turning', 'ratings.Carving', 'ratings.Speed', 'ratings.Uneven',\n",
    "       'ratings.Switch', 'ratings.Jumps', 'ratings.Jibbing', 'ratings.Pipe',\n",
    "       'ratings.On', 'ratings.Turn', 'ratings.Skidded', 'ratings.Flex',\n",
    "       'ratings.Buttering', 'ratings.Edge']\n",
    "\n",
    "meta_cols = ['id', 'ratings.Overall Rating', \n",
    "             'meta_data.name', 'meta_data.url',\n",
    "             'meta_data.price', 'meta_data.image_url'\n",
    "            ]"
   ]
  },
  {
   "cell_type": "code",
   "execution_count": null,
   "id": "c8d46882-b602-4afa-b79d-f2ff954d4b58",
   "metadata": {},
   "outputs": [],
   "source": [
    "df = pd.get_dummies(df, columns=sel_cols)\n",
    "df.shape"
   ]
  },
  {
   "cell_type": "code",
   "execution_count": null,
   "id": "613efb16-16dc-4026-bb08-40368d2a091b",
   "metadata": {},
   "outputs": [],
   "source": [
    "def distance_function(r, algo='jaccard'):\n",
    "    dists = pdist(r, algo)\n",
    "    \n",
    "    return pd.DataFrame(squareform(dists))"
   ]
  },
  {
   "cell_type": "code",
   "execution_count": null,
   "id": "1d69ca33-3f0d-468b-81a7-6bd8416fb8eb",
   "metadata": {},
   "outputs": [],
   "source": [
    "df_dist = distance_function(df.drop(labels=meta_cols, axis=1).values)\n",
    "df_dist"
   ]
  },
  {
   "cell_type": "code",
   "execution_count": null,
   "id": "8375b0fa-7550-4adf-a42a-4c470741c2cc",
   "metadata": {},
   "outputs": [],
   "source": []
  }
 ],
 "metadata": {
  "kernelspec": {
   "display_name": "Python 3",
   "language": "python",
   "name": "python3"
  },
  "language_info": {
   "codemirror_mode": {
    "name": "ipython",
    "version": 3
   },
   "file_extension": ".py",
   "mimetype": "text/x-python",
   "name": "python",
   "nbconvert_exporter": "python",
   "pygments_lexer": "ipython3",
   "version": "3.8.10"
  }
 },
 "nbformat": 4,
 "nbformat_minor": 5
}
