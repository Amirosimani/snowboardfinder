{
 "cells": [
  {
   "cell_type": "code",
   "execution_count": 1,
   "id": "ae6097ad-f4db-4603-8138-68d36cce0723",
   "metadata": {},
   "outputs": [],
   "source": [
    "import hashlib\n",
    "import io\n",
    "import logging\n",
    "import os\n",
    "import time\n",
    "import requests\n",
    "from tqdm import tqdm\n",
    "from bs4 import BeautifulSoup\n",
    "from selenium import webdriver\n",
    "from webdriver_manager.chrome import ChromeDriverManager"
   ]
  },
  {
   "cell_type": "code",
   "execution_count": 2,
   "id": "505587c4-49de-4a93-9c6a-7d1984c9ce56",
   "metadata": {},
   "outputs": [],
   "source": [
    "logging.basicConfig(format='%(asctime)s %(levelname)s %(process)d --- %(name)s %(funcName)20s() : %(message)s',\n",
    "                    datefmt='%d-%b-%y %H:%M:%S', level=logging.INFO)"
   ]
  },
  {
   "cell_type": "code",
   "execution_count": 42,
   "id": "bacf2263-d0bb-4552-b8f2-9c847fc969bf",
   "metadata": {},
   "outputs": [],
   "source": [
    "class GearScraper:\n",
    "    logger = logging.getLogger('GearScraper')\n",
    "\n",
    "    def __init__(self):\n",
    "        self.driver = webdriver.Chrome(ChromeDriverManager().install())\n",
    "    \n",
    "    def parse(self, gender):\n",
    "        \n",
    "        board_list = []\n",
    "        \n",
    "        url_list = self.__get_boards_url(gender, self.driver)\n",
    "        for url in tqdm(url_list[:2], desc=\"Getting ratings...\"):\n",
    "            ratings = self.__get_ratings(url, self.driver)\n",
    "            ratings['meta_data'] = self.__get_meta_data(url, self.driver)\n",
    "            board_list.append(ratings)\n",
    "        self.logger.info(\"All boards have been processed.\")\n",
    "#         driver.close()            \n",
    "\n",
    "        return board_list\n",
    "        \n",
    "    def __get_boards_url(self, gender, browser):\n",
    "        search_url = f\"https://thegoodride.com/snowboard-reviews/?{gender}=1\"        \n",
    "        board_urls = []\n",
    "        \n",
    "        browser.get(search_url)\n",
    "        # click and wait\n",
    "        button = browser.find_element_by_xpath('/html/body/div[5]/div/div/div/div[3]/form/div[1]/div[42]/a')\n",
    "        browser.execute_script(\"arguments[0].click();\", button)\n",
    "        self.logger.info(f\"Loading main page for {gender} boards...\")\n",
    "        time.sleep(10)\n",
    "\n",
    "        elems = browser.find_elements_by_xpath('//*[@id=\"applications\"]/*/a[@href]')\n",
    "        for elem in tqdm(elems, desc=\"Fetching links \"):\n",
    "            board_urls.append(elem.get_attribute(\"href\"))\n",
    "\n",
    "        return board_urls\n",
    "    \n",
    "    def __get_ratings(self, url, driver):\n",
    "        rating_dict = {}\n",
    "        driver.get(url)\n",
    "\n",
    "        # top-right table\n",
    "        elems = driver.find_elements_by_xpath('//*[@id=\"post-\"]/div[1]/div[2]/div[1]/table/tbody/*')\n",
    "        for row in elems:\n",
    "            k = row.find_elements_by_tag_name(\"td\")[0]\n",
    "            v = row.find_elements_by_tag_name(\"td\")[1]\n",
    "            rating_dict[k.text] = v.text\n",
    "\n",
    "        # top-left table\n",
    "        elems = driver.find_elements_by_xpath('//*[@id=\"post-\"]/div[1]/div[2]/div[2]/table/tbody/*')\n",
    "        for item in [e.text.split() for e in elems]:\n",
    "            rating_dict[item[0]] = item[1]\n",
    "\n",
    "        # bottom table\n",
    "        b_table = []\n",
    "        elems = driver.find_elements_by_xpath('//*[@id=\"post-\"]/div[1]/div[2]/div[3]/*/table/tbody/*')\n",
    "        for item in [e.text.split() for e in elems]:\n",
    "            rating_dict[item[0]] = item[1]\n",
    "        return rating_dict\n",
    "    \n",
    "    def __get_meta_data(self, url, driver):\n",
    "        \n",
    "        meta_dict = {}\n",
    "        \n",
    "        driver.get(url)\n",
    "        meta_dict['name'] = url.rsplit('/', 1)[1]\n",
    "        meta_dict['url'] = url\n",
    "        \n",
    "        # Get price data\n",
    "        for e in driver.find_elements_by_xpath('//*[@id=\"post-\"]/div[1]/div[1]/div/div[1]'):\n",
    "            meta_dict['price'] = e.text.rsplit(' ', 1)[1]\n",
    "        \n",
    "        # get image url\n",
    "        for e in driver.find_elements_by_xpath('//*[@id=\"post-\"]/div[1]/div[1]/div/div[2]/a'):\n",
    "            meta_dict['image_url'] = e.get_attribute(\"href\")\n",
    "            \n",
    "        return meta_dict"
   ]
  },
  {
   "cell_type": "code",
   "execution_count": 43,
   "id": "5ab4f014-cbd2-4d6d-98f5-cdfa48791d33",
   "metadata": {},
   "outputs": [
    {
     "name": "stderr",
     "output_type": "stream",
     "text": [
      "\n",
      "\n",
      "18-Jun-21 01:16:49 INFO 26884 --- WDM                  log() : \n",
      "\n",
      "====== WebDriver manager ======\n",
      "18-Jun-21 01:16:49 INFO 26884 --- WDM                  log() : ====== WebDriver manager ======\n",
      "Current google-chrome version is 91.0.4472\n",
      "18-Jun-21 01:16:49 INFO 26884 --- WDM                  log() : Current google-chrome version is 91.0.4472\n",
      "Get LATEST driver version for 91.0.4472\n",
      "18-Jun-21 01:16:49 INFO 26884 --- WDM                  log() : Get LATEST driver version for 91.0.4472\n",
      "Driver [/Users/imaniai/.wdm/drivers/chromedriver/mac64/91.0.4472.101/chromedriver] found in cache\n",
      "18-Jun-21 01:16:49 INFO 26884 --- WDM                  log() : Driver [/Users/imaniai/.wdm/drivers/chromedriver/mac64/91.0.4472.101/chromedriver] found in cache\n"
     ]
    }
   ],
   "source": [
    "scrpr = GearScraper()"
   ]
  },
  {
   "cell_type": "code",
   "execution_count": 44,
   "id": "3fcb9965-7ae2-4399-9b8d-c719e92afcce",
   "metadata": {},
   "outputs": [
    {
     "name": "stderr",
     "output_type": "stream",
     "text": [
      "18-Jun-21 01:16:56 INFO 26884 --- GearScraper     __get_boards_url() : Loading main page for mens boards...\n",
      "Fetching links : 100%|██████████| 434/434 [00:01<00:00, 269.39it/s]\n",
      "Getting ratings...: 100%|██████████| 2/2 [00:10<00:00,  5.15s/it]\n",
      "18-Jun-21 01:17:18 INFO 26884 --- GearScraper                parse() : All boards have been processed.\n"
     ]
    }
   ],
   "source": [
    "boards_url_list = scrpr.parse('mens')"
   ]
  },
  {
   "cell_type": "code",
   "execution_count": 45,
   "id": "e0f4a1fb-087c-4972-ac2d-c99fb63723e6",
   "metadata": {},
   "outputs": [
    {
     "data": {
      "text/plain": [
       "[{'Overall Rating': 'Liked it!',\n",
       "  'Riding Style': 'All Mountain Freestyle',\n",
       "  'Riding Level': 'Beginner - Expert',\n",
       "  'Fits Boot size (US)': '8-10',\n",
       "  'Manufactured in': 'Tunisia by Nidecker',\n",
       "  'Shape': 'True Twin',\n",
       "  'Camber Profile': 'Hybrid Camber',\n",
       "  'Stance': 'Centered',\n",
       "  'Approx. Weight': 'Feels Normal',\n",
       "  'Powder': 'Average',\n",
       "  'Turning': 'Experience',\n",
       "  'Carving': 'Good',\n",
       "  'Speed': 'Great',\n",
       "  'Uneven': 'Terrain',\n",
       "  'Switch': 'Great',\n",
       "  'Jumps': 'Good',\n",
       "  'Jibbing': 'Average',\n",
       "  'Pipe': 'Great',\n",
       "  'On': 'Snow',\n",
       "  'Turn': 'Initiation',\n",
       "  'Skidded': 'Turns',\n",
       "  'Flex': 'Medium',\n",
       "  'Buttering': 'Semi-Easy',\n",
       "  'Edge': 'Hold',\n",
       "  'meta_data': {'name': 'alloy-b-bomb-2016-2020-snowboard-review',\n",
       "   'url': 'https://thegoodride.com/snowboard-reviews/alloy-b-bomb-2016-2020-snowboard-review',\n",
       "   'price': '$549',\n",
       "   'image_url': 'https://thegoodride.com/assets/lg-gallery/alloy/snowboards/b-bomb/alloy-b-bomb.jpg'}},\n",
       " {'Overall Rating': '',\n",
       "  'Riding Style': 'Freestyle',\n",
       "  'Riding Level': 'Intermediate - Expert',\n",
       "  'Fits Boot size (US)': '8-10',\n",
       "  'Manufactured in': 'Tunisia by Nidecker',\n",
       "  'Shape': 'True Twin',\n",
       "  'Camber Profile': 'Hybrid Camber',\n",
       "  'Stance': 'Centered',\n",
       "  'Approx. Weight': 'Feels Normal',\n",
       "  'Powder': 'Average',\n",
       "  'Turning': 'Experience',\n",
       "  'Carving': 'Average',\n",
       "  'Speed': 'Average',\n",
       "  'Uneven': 'Terrain',\n",
       "  'Switch': 'Great',\n",
       "  'Jumps': 'Good',\n",
       "  'Jibbing': 'Great',\n",
       "  'Pipe': 'Good',\n",
       "  'On': 'Snow',\n",
       "  'Turn': 'Initiation',\n",
       "  'Skidded': 'Turns',\n",
       "  'Flex': 'Medium/Soft',\n",
       "  'Buttering': 'Easy',\n",
       "  'Edge': 'Hold',\n",
       "  'meta_data': {'name': 'alloy-b-bomb-gt-2020-snowboard-review',\n",
       "   'url': 'https://thegoodride.com/snowboard-reviews/alloy-b-bomb-gt-2020-snowboard-review',\n",
       "   'price': '$0',\n",
       "   'image_url': 'https://thegoodride.com/assets/lg-gallery/alloy/snowboards/b-bomb-gt/alloy-b-bomb-gt.jpg'}}]"
      ]
     },
     "execution_count": 45,
     "metadata": {},
     "output_type": "execute_result"
    }
   ],
   "source": [
    "boards_url_list"
   ]
  },
  {
   "cell_type": "code",
   "execution_count": null,
   "id": "adc301c6-fb2f-49ac-b5d1-b8fc8bb1edac",
   "metadata": {},
   "outputs": [],
   "source": []
  }
 ],
 "metadata": {
  "kernelspec": {
   "display_name": "Python 3",
   "language": "python",
   "name": "python3"
  },
  "language_info": {
   "codemirror_mode": {
    "name": "ipython",
    "version": 3
   },
   "file_extension": ".py",
   "mimetype": "text/x-python",
   "name": "python",
   "nbconvert_exporter": "python",
   "pygments_lexer": "ipython3",
   "version": "3.8.10"
  }
 },
 "nbformat": 4,
 "nbformat_minor": 5
}
