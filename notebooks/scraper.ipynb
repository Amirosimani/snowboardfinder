{
 "cells": [
  {
   "cell_type": "code",
   "execution_count": 7,
   "id": "8d5ba056-1de0-4499-9132-cf875a739b78",
   "metadata": {},
   "outputs": [
    {
     "name": "stdout",
     "output_type": "stream",
     "text": [
      "[{\"id\": \"b'WdfFXZW/dvMLdhtMZs3ihVDCRHI='\", \"ratings\": {\"Overall Rating\": \"\", \"Riding Style\": \"Freestyle\", \"Riding Level\": \"Intermediate - Expert\", \"Fits Boot size (US)\": \"8-10\", \"Manufactured in\": \"Tunisia by Nidecker\", \"Shape\": \"True Twin\", \"Camber Profile\": \"Hybrid Camber\", \"Stance\": \"Centered\", \"Approx. Weight\": \"Feels Normal\", \"Powder\": \"Average\", \"Turning\": \"Experience\", \"Carving\": \"Average\", \"Speed\": \"Average\", \"Uneven\": \"Terrain\", \"Switch\": \"Great\", \"Jumps\": \"Good\", \"Jibbing\": \"Great\", \"Pipe\": \"Good\", \"On\": \"Snow\", \"Turn\": \"Initiation\", \"Skidded\": \"Turns\", \"Flex\": \"Medium/Soft\", \"Buttering\": \"Easy\", \"Edge\": \"Hold\"}, \"meta_data\": {\"name\": \"alloy-b-bomb-gt-2020-snowboard-review\", \"url\": \"https://thegoodride.com/snowboard-reviews/alloy-b-bomb-gt-2020-snowboard-review\", \"price\": \"$0\", \"image_url\": \"https://thegoodride.com/assets/lg-gallery/alloy/snowboards/b-bomb-gt/alloy-b-bomb-gt.jpg\"}}, {\"id\": \"b'WdfFXZW/dvMLdhtMZs3ihVDCRHI='\", \"ratings\": {\"Overall Rating\": \"\", \"Riding Style\": \"Freestyle\", \"Riding Level\": \"Intermediate - Expert\", \"Fits Boot size (US)\": \"8-10\", \"Manufactured in\": \"Tunisia by Nidecker\", \"Shape\": \"True Twin\", \"Camber Profile\": \"Hybrid Camber\", \"Stance\": \"Centered\", \"Approx. Weight\": \"Feels Normal\", \"Powder\": \"Average\", \"Turning\": \"Experience\", \"Carving\": \"Average\", \"Speed\": \"Average\", \"Uneven\": \"Terrain\", \"Switch\": \"Great\", \"Jumps\": \"Good\", \"Jibbing\": \"Great\", \"Pipe\": \"Good\", \"On\": \"Snow\", \"Turn\": \"Initiation\", \"Skidded\": \"Turns\", \"Flex\": \"Medium/Soft\", \"Buttering\": \"Easy\", \"Edge\": \"Hold\"}, \"meta_data\": {\"name\": \"alloy-b-bomb-gt-2020-snowboard-review\", \"url\": \"https://thegoodride.com/snowboard-reviews/alloy-b-bomb-gt-2020-snowboard-review\", \"price\": \"$0\", \"image_url\": \"https://thegoodride.com/assets/lg-gallery/alloy/snowboards/b-bomb-gt/alloy-b-bomb-gt.jpg\"}}]\n"
     ]
    }
   ],
   "source": [
    "import json\n",
    "  \n",
    "with open('./mens.json') as f:\n",
    "    d = json.load(f)\n",
    "    print(d)"
   ]
  },
  {
   "cell_type": "code",
   "execution_count": 13,
   "id": "d4ffbdc0-5cce-4f00-bcfe-7a596614f6f4",
   "metadata": {},
   "outputs": [],
   "source": [
    "import ast\n",
    "import pandas as pd\n",
    "from scipy.spatial.distance import squareform, pdist"
   ]
  },
  {
   "cell_type": "code",
   "execution_count": 13,
   "id": "f8ac8e31-5867-474d-ad90-34d44014e561",
   "metadata": {},
   "outputs": [],
   "source": [
    "d = ast.literal_eval(d)"
   ]
  },
  {
   "cell_type": "code",
   "execution_count": 14,
   "id": "059c940e-6889-4ca5-a75d-b470dbf986a6",
   "metadata": {},
   "outputs": [
    {
     "data": {
      "text/plain": [
       "{'id': \"b'WdfFXZW/dvMLdhtMZs3ihVDCRHI='\",\n",
       " 'ratings': {'Overall Rating': '',\n",
       "  'Riding Style': 'Freestyle',\n",
       "  'Riding Level': 'Intermediate - Expert',\n",
       "  'Fits Boot size (US)': '8-10',\n",
       "  'Manufactured in': 'Tunisia by Nidecker',\n",
       "  'Shape': 'True Twin',\n",
       "  'Camber Profile': 'Hybrid Camber',\n",
       "  'Stance': 'Centered',\n",
       "  'Approx. Weight': 'Feels Normal',\n",
       "  'Powder': 'Average',\n",
       "  'Turning': 'Experience',\n",
       "  'Carving': 'Average',\n",
       "  'Speed': 'Average',\n",
       "  'Uneven': 'Terrain',\n",
       "  'Switch': 'Great',\n",
       "  'Jumps': 'Good',\n",
       "  'Jibbing': 'Great',\n",
       "  'Pipe': 'Good',\n",
       "  'On': 'Snow',\n",
       "  'Turn': 'Initiation',\n",
       "  'Skidded': 'Turns',\n",
       "  'Flex': 'Medium/Soft',\n",
       "  'Buttering': 'Easy',\n",
       "  'Edge': 'Hold'},\n",
       " 'meta_data': {'name': 'alloy-b-bomb-gt-2020-snowboard-review',\n",
       "  'url': 'https://thegoodride.com/snowboard-reviews/alloy-b-bomb-gt-2020-snowboard-review',\n",
       "  'price': '$0',\n",
       "  'image_url': 'https://thegoodride.com/assets/lg-gallery/alloy/snowboards/b-bomb-gt/alloy-b-bomb-gt.jpg'}}"
      ]
     },
     "execution_count": 14,
     "metadata": {},
     "output_type": "execute_result"
    }
   ],
   "source": [
    "d[0]"
   ]
  },
  {
   "cell_type": "code",
   "execution_count": 32,
   "id": "7eff277f-00a2-4c49-a95e-9d8a58f2cfda",
   "metadata": {},
   "outputs": [
    {
     "data": {
      "text/plain": [
       "(2, 29)"
      ]
     },
     "execution_count": 32,
     "metadata": {},
     "output_type": "execute_result"
    }
   ],
   "source": [
    "df = pd.json_normalize(d)\n",
    "df.shape"
   ]
  },
  {
   "cell_type": "code",
   "execution_count": 18,
   "id": "cb2bcaa5-ef7f-42b0-acef-e3ea02d041d2",
   "metadata": {},
   "outputs": [],
   "source": [
    "sel_cols = ['ratings.Riding Style',\n",
    "       'ratings.Riding Level', 'ratings.Fits Boot size (US)',\n",
    "       'ratings.Manufactured in', 'ratings.Shape', 'ratings.Camber Profile',\n",
    "       'ratings.Stance', 'ratings.Approx. Weight', 'ratings.Powder',\n",
    "       'ratings.Turning', 'ratings.Carving', 'ratings.Speed', 'ratings.Uneven',\n",
    "       'ratings.Switch', 'ratings.Jumps', 'ratings.Jibbing', 'ratings.Pipe',\n",
    "       'ratings.On', 'ratings.Turn', 'ratings.Skidded', 'ratings.Flex',\n",
    "       'ratings.Buttering', 'ratings.Edge']\n",
    "\n",
    "meta_cols ="
   ]
  },
  {
   "cell_type": "code",
   "execution_count": 20,
   "id": "c8d46882-b602-4afa-b79d-f2ff954d4b58",
   "metadata": {},
   "outputs": [
    {
     "data": {
      "text/plain": [
       "(2, 29)"
      ]
     },
     "execution_count": 20,
     "metadata": {},
     "output_type": "execute_result"
    }
   ],
   "source": [
    "df = pd.get_dummies(df, columns=sel_cols)\n",
    "df.shape"
   ]
  },
  {
   "cell_type": "code",
   "execution_count": 37,
   "id": "613efb16-16dc-4026-bb08-40368d2a091b",
   "metadata": {},
   "outputs": [],
   "source": [
    "def distance_function(r, algo='jaccard'):\n",
    "    dists = pdist(r, algo)\n",
    "    \n",
    "    return pd.DataFrame(squareform(dists))"
   ]
  },
  {
   "cell_type": "code",
   "execution_count": null,
   "id": "1d69ca33-3f0d-468b-81a7-6bd8416fb8eb",
   "metadata": {},
   "outputs": [],
   "source": [
    "df_dist = distance_function(df_final_dummies.drop(labels=meta_cols, axis=1).values)"
   ]
  }
 ],
 "metadata": {
  "kernelspec": {
   "display_name": "Python 3",
   "language": "python",
   "name": "python3"
  },
  "language_info": {
   "codemirror_mode": {
    "name": "ipython",
    "version": 3
   },
   "file_extension": ".py",
   "mimetype": "text/x-python",
   "name": "python",
   "nbconvert_exporter": "python",
   "pygments_lexer": "ipython3",
   "version": "3.8.10"
  }
 },
 "nbformat": 4,
 "nbformat_minor": 5
}
