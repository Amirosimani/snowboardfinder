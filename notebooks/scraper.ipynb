{
 "cells": [
  {
   "cell_type": "code",
   "execution_count": 1,
   "id": "ae6097ad-f4db-4603-8138-68d36cce0723",
   "metadata": {},
   "outputs": [],
   "source": [
    "import hashlib\n",
    "import io\n",
    "import logging\n",
    "import os\n",
    "import time\n",
    "import hashlib\n",
    "import base64\n",
    "import requests\n",
    "from tqdm import tqdm\n",
    "from bs4 import BeautifulSoup\n",
    "from selenium import webdriver\n",
    "from webdriver_manager.chrome import ChromeDriverManager"
   ]
  },
  {
   "cell_type": "code",
   "execution_count": 2,
   "id": "505587c4-49de-4a93-9c6a-7d1984c9ce56",
   "metadata": {},
   "outputs": [],
   "source": [
    "logging.basicConfig(format='%(asctime)s %(levelname)s %(process)d --- %(name)s %(funcName)20s() : %(message)s',\n",
    "                    datefmt='%d-%b-%y %H:%M:%S', level=logging.INFO)"
   ]
  },
  {
   "cell_type": "code",
   "execution_count": 3,
   "id": "bacf2263-d0bb-4552-b8f2-9c847fc969bf",
   "metadata": {},
   "outputs": [],
   "source": [
    "class GearScraper:\n",
    "    logger = logging.getLogger('GearScraper')\n",
    "\n",
    "    def __init__(self):\n",
    "        self.driver = webdriver.Chrome(ChromeDriverManager().install())\n",
    "    \n",
    "    def parse(self, gender):\n",
    "        \n",
    "        board_list = []\n",
    "        single_board_dict = {}\n",
    "        \n",
    "        url_list = self.__get_boards_url(gender, self.driver)\n",
    "        for url in tqdm(url_list[:2], desc=\"Getting ratings...\"):\n",
    "            single_board_dict['id'] = self.__hashme(url)\n",
    "            single_board_dict['ratings'] = self.__get_ratings(url, self.driver)\n",
    "            single_board_dict['meta_data'] = self.__get_meta_data(url, self.driver)\n",
    "            board_list.append(single_board_dict)\n",
    "        self.logger.info(\"All boards have been processed.\")\n",
    "#         driver.close()            \n",
    "\n",
    "        return board_list\n",
    "\n",
    "    def __hashme(self, x):\n",
    "        unique_id =  base64.b64encode(hashlib.sha1(x.encode('UTF-8')).digest())\n",
    "        return str(unique_id)\n",
    "        \n",
    "    def __get_boards_url(self, gender, browser):\n",
    "        search_url = f\"https://thegoodride.com/snowboard-reviews/?{gender}=1\"        \n",
    "        board_urls = []\n",
    "        \n",
    "        browser.get(search_url)\n",
    "        # click and wait\n",
    "        button = browser.find_element_by_xpath('/html/body/div[5]/div/div/div/div[3]/form/div[1]/div[42]/a')\n",
    "        browser.execute_script(\"arguments[0].click();\", button)\n",
    "        self.logger.info(f\"Loading main page for \\033[1m{gender}\\033[0m boards...\")\n",
    "        time.sleep(10)\n",
    "\n",
    "        elems = browser.find_elements_by_xpath('//*[@id=\"applications\"]/*/a[@href]')\n",
    "        for elem in tqdm(elems, desc=\"Fetching links \"):\n",
    "            board_urls.append(elem.get_attribute(\"href\"))\n",
    "\n",
    "        return board_urls\n",
    "    \n",
    "    def __get_ratings(self, url, driver):\n",
    "        rating_dict = {}\n",
    "        driver.get(url)\n",
    "\n",
    "        # top-right table\n",
    "        elems = driver.find_elements_by_xpath('//*[@id=\"post-\"]/div[1]/div[2]/div[1]/table/tbody/*')\n",
    "        for row in elems:\n",
    "            k = row.find_elements_by_tag_name(\"td\")[0]\n",
    "            v = row.find_elements_by_tag_name(\"td\")[1]\n",
    "            rating_dict[k.text] = v.text\n",
    "\n",
    "        # top-left table\n",
    "        elems = driver.find_elements_by_xpath('//*[@id=\"post-\"]/div[1]/div[2]/div[2]/table/tbody/*')\n",
    "        for item in [e.text.split() for e in elems]:\n",
    "            rating_dict[item[0]] = item[1]\n",
    "\n",
    "        # bottom table\n",
    "        b_table = []\n",
    "        elems = driver.find_elements_by_xpath('//*[@id=\"post-\"]/div[1]/div[2]/div[3]/*/table/tbody/*')\n",
    "        for item in [e.text.split() for e in elems]:\n",
    "            rating_dict[item[0]] = item[1]\n",
    "        return rating_dict\n",
    "    \n",
    "    def __get_meta_data(self, url, driver):\n",
    "        \n",
    "        meta_dict = {}\n",
    "        \n",
    "        driver.get(url)\n",
    "        meta_dict['name'] = url.rsplit('/', 1)[1]\n",
    "        meta_dict['url'] = url\n",
    "        \n",
    "        # Get price data\n",
    "        for e in driver.find_elements_by_xpath('//*[@id=\"post-\"]/div[1]/div[1]/div/div[1]'):\n",
    "            meta_dict['price'] = e.text.rsplit(' ', 1)[1]\n",
    "        \n",
    "        # get image url\n",
    "        for e in driver.find_elements_by_xpath('//*[@id=\"post-\"]/div[1]/div[1]/div/div[2]/a'):\n",
    "            meta_dict['image_url'] = e.get_attribute(\"href\")\n",
    "            \n",
    "        return meta_dict"
   ]
  },
  {
   "cell_type": "code",
   "execution_count": 4,
   "id": "5ab4f014-cbd2-4d6d-98f5-cdfa48791d33",
   "metadata": {},
   "outputs": [
    {
     "name": "stderr",
     "output_type": "stream",
     "text": [
      "\n",
      "\n",
      "18-Jun-21 13:17:23 INFO 67527 --- WDM                  log() : \n",
      "\n",
      "====== WebDriver manager ======\n",
      "18-Jun-21 13:17:23 INFO 67527 --- WDM                  log() : ====== WebDriver manager ======\n",
      "Current google-chrome version is 91.0.4472\n",
      "18-Jun-21 13:17:24 INFO 67527 --- WDM                  log() : Current google-chrome version is 91.0.4472\n",
      "Get LATEST driver version for 91.0.4472\n",
      "18-Jun-21 13:17:24 INFO 67527 --- WDM                  log() : Get LATEST driver version for 91.0.4472\n",
      "Driver [/Users/imaniai/.wdm/drivers/chromedriver/mac64/91.0.4472.101/chromedriver] found in cache\n",
      "18-Jun-21 13:17:24 INFO 67527 --- WDM                  log() : Driver [/Users/imaniai/.wdm/drivers/chromedriver/mac64/91.0.4472.101/chromedriver] found in cache\n"
     ]
    }
   ],
   "source": [
    "scrpr = GearScraper()"
   ]
  },
  {
   "cell_type": "code",
   "execution_count": 5,
   "id": "3fcb9965-7ae2-4399-9b8d-c719e92afcce",
   "metadata": {},
   "outputs": [
    {
     "name": "stderr",
     "output_type": "stream",
     "text": [
      "18-Jun-21 13:17:33 INFO 67527 --- GearScraper     __get_boards_url() : Loading main page for \u001b[1mmens\u001b[0m boards...\n",
      "Fetching links : 100%|██████████| 434/434 [00:01<00:00, 263.97it/s]\n",
      "Getting ratings...: 100%|██████████| 2/2 [00:12<00:00,  6.32s/it]\n",
      "18-Jun-21 13:17:57 INFO 67527 --- GearScraper                parse() : All boards have been processed.\n"
     ]
    }
   ],
   "source": [
    "boards_url_list = scrpr.parse('mens')"
   ]
  },
  {
   "cell_type": "code",
   "execution_count": null,
   "id": "e951a0a0-3a61-49d6-972a-ae3d4415e8ae",
   "metadata": {},
   "outputs": [],
   "source": [
    "import logging\n",
    "import boto3\n",
    "from botocore.exceptions import ClientError\n",
    "\n",
    "logging.basicConfig(format='%(asctime)s %(levelname)s %(process)d --- %(name)s %(funcName)20s() : %(message)s',\n",
    "                    datefmt='%d-%b-%y %H:%M:%S', level=logging.INFO)\n",
    "\n",
    "\n",
    "def upload_object(object: bytes, bucket: str, key: str, content_type: str,\n",
    "                  grant_read: str = None, metadata={}) -> bool:\n",
    "    \"\"\"\n",
    "    Upload an image file to an S3 bucket\n",
    "    object: The file in bytes to upload to s3\n",
    "    bucket: Bucket to upload to\n",
    "    key: The key to save the object as\n",
    "    content_type: The ContentType of the object\n",
    "    grant_read: Specify the read-access of the object, default is public read\n",
    "    metadata: A dict to specify any metadata\n",
    "    Returns:\n",
    "        True if file was uploaded, else False\n",
    "    \"\"\"\n",
    "    if grant_read is None:\n",
    "        grant_read = 'uri=\"http://acs.amazonaws.com/groups/global/AllUsers\"'\n",
    "    s3_client = boto3.client('s3')\n",
    "    try:\n",
    "        s3_client.put_object(Body=object, Bucket=bucket, GrantRead=grant_read, ContentType=content_type, Key=key,\n",
    "                             Metadata=metadata)\n",
    "        logging.info(f\"Successfully uploaded object to '{bucket}' as '{key}'.\")\n",
    "    except ClientError as e:\n",
    "        logging.error(e)\n",
    "        return False\n",
    "    return True"
   ]
  },
  {
   "cell_type": "code",
   "execution_count": 12,
   "id": "36cf50c5-d23e-420b-99a2-4cf3274daf7c",
   "metadata": {},
   "outputs": [],
   "source": [
    "import json\n",
    "import boto3  \n",
    "from botocore.exceptions import ClientError\n",
    "\n",
    "# s3 = boto3.resource('s3')\n",
    "# s3object = s3.Object('your-bucket-name', 'your_file.json')\n",
    "\n",
    "# s3object.put(\n",
    "#     Body=(bytes(json.dumps(json_data).encode('UTF-8')))\n",
    "# )"
   ]
  },
  {
   "cell_type": "code",
   "execution_count": 6,
   "id": "0eba81b5-c259-479b-9825-57bda0f9c2a2",
   "metadata": {},
   "outputs": [
    {
     "data": {
      "text/plain": [
       "'[{\"id\": \"b\\'WdfFXZW/dvMLdhtMZs3ihVDCRHI=\\'\", \"ratings\": {\"Overall Rating\": \"\", \"Riding Style\": \"Freestyle\", \"Riding Level\": \"Intermediate - Expert\", \"Fits Boot size (US)\": \"8-10\", \"Manufactured in\": \"Tunisia by Nidecker\", \"Shape\": \"True Twin\", \"Camber Profile\": \"Hybrid Camber\", \"Stance\": \"Centered\", \"Approx. Weight\": \"Feels Normal\", \"Powder\": \"Average\", \"Turning\": \"Experience\", \"Carving\": \"Average\", \"Speed\": \"Average\", \"Uneven\": \"Terrain\", \"Switch\": \"Great\", \"Jumps\": \"Good\", \"Jibbing\": \"Great\", \"Pipe\": \"Good\", \"On\": \"Snow\", \"Turn\": \"Initiation\", \"Skidded\": \"Turns\", \"Flex\": \"Medium/Soft\", \"Buttering\": \"Easy\", \"Edge\": \"Hold\"}, \"meta_data\": {\"name\": \"alloy-b-bomb-gt-2020-snowboard-review\", \"url\": \"https://thegoodride.com/snowboard-reviews/alloy-b-bomb-gt-2020-snowboard-review\", \"price\": \"$0\", \"image_url\": \"https://thegoodride.com/assets/lg-gallery/alloy/snowboards/b-bomb-gt/alloy-b-bomb-gt.jpg\"}}, {\"id\": \"b\\'WdfFXZW/dvMLdhtMZs3ihVDCRHI=\\'\", \"ratings\": {\"Overall Rating\": \"\", \"Riding Style\": \"Freestyle\", \"Riding Level\": \"Intermediate - Expert\", \"Fits Boot size (US)\": \"8-10\", \"Manufactured in\": \"Tunisia by Nidecker\", \"Shape\": \"True Twin\", \"Camber Profile\": \"Hybrid Camber\", \"Stance\": \"Centered\", \"Approx. Weight\": \"Feels Normal\", \"Powder\": \"Average\", \"Turning\": \"Experience\", \"Carving\": \"Average\", \"Speed\": \"Average\", \"Uneven\": \"Terrain\", \"Switch\": \"Great\", \"Jumps\": \"Good\", \"Jibbing\": \"Great\", \"Pipe\": \"Good\", \"On\": \"Snow\", \"Turn\": \"Initiation\", \"Skidded\": \"Turns\", \"Flex\": \"Medium/Soft\", \"Buttering\": \"Easy\", \"Edge\": \"Hold\"}, \"meta_data\": {\"name\": \"alloy-b-bomb-gt-2020-snowboard-review\", \"url\": \"https://thegoodride.com/snowboard-reviews/alloy-b-bomb-gt-2020-snowboard-review\", \"price\": \"$0\", \"image_url\": \"https://thegoodride.com/assets/lg-gallery/alloy/snowboards/b-bomb-gt/alloy-b-bomb-gt.jpg\"}}]'"
      ]
     },
     "execution_count": 6,
     "metadata": {},
     "output_type": "execute_result"
    }
   ],
   "source": [
    "import json\n",
    "json.dumps(boards_url_list)"
   ]
  },
  {
   "cell_type": "code",
   "execution_count": null,
   "id": "f9171e7e-d156-4dba-8e9a-7e9cc316478c",
   "metadata": {},
   "outputs": [],
   "source": []
  }
 ],
 "metadata": {
  "kernelspec": {
   "display_name": "Python 3",
   "language": "python",
   "name": "python3"
  },
  "language_info": {
   "codemirror_mode": {
    "name": "ipython",
    "version": 3
   },
   "file_extension": ".py",
   "mimetype": "text/x-python",
   "name": "python",
   "nbconvert_exporter": "python",
   "pygments_lexer": "ipython3",
   "version": "3.8.10"
  }
 },
 "nbformat": 4,
 "nbformat_minor": 5
}
