{
 "cells": [
  {
   "cell_type": "code",
   "execution_count": 1,
   "id": "8d5ba056-1de0-4499-9132-cf875a739b78",
   "metadata": {},
   "outputs": [],
   "source": [
    "import pandas as pd\n",
    "from scipy.spatial.distance import squareform, pdist"
   ]
  },
  {
   "cell_type": "code",
   "execution_count": 2,
   "id": "8e686f37-0739-4f21-8e27-9f297a7c6376",
   "metadata": {},
   "outputs": [],
   "source": [
    "import logging\n",
    "import json\n",
    "import boto3\n",
    "from botocore.exceptions import ClientError\n",
    "\n",
    "logging.basicConfig(format='%(asctime)s %(levelname)s %(process)d --- %(name)s %(funcName)20s() : %(message)s',\n",
    "                    datefmt='%d-%b-%y %H:%M:%S', level=logging.INFO)\n",
    "\n",
    "\n",
    "def download_object(bucket: str, key: str):\n",
    "    s3_client = boto3.client('s3')\n",
    "    try:\n",
    "        s3_response_object = s3_client.get_object(Bucket=bucket, Key=key)\n",
    "        object_content = s3_response_object['Body'].read().decode('utf-8')\n",
    "        json_content = json.loads(object_content)\n",
    "        return json_content\n",
    "    except ClientError as e:\n",
    "        logging.error(e)\n"
   ]
  },
  {
   "cell_type": "code",
   "execution_count": 3,
   "id": "6cb5565b-c8ad-488c-92b2-7c22a10b21ed",
   "metadata": {},
   "outputs": [
    {
     "name": "stderr",
     "output_type": "stream",
     "text": [
      "18-Jun-21 16:48:45 INFO 90542 --- botocore.credentials                 load() : Found credentials in shared credentials file: ~/.aws/credentials\n"
     ]
    }
   ],
   "source": [
    "l = download_object('snowboard-finder', 'raw/mens.json')"
   ]
  },
  {
   "cell_type": "code",
   "execution_count": 10,
   "id": "a21533b7-6dba-4ec9-a03b-7a5b59815f87",
   "metadata": {},
   "outputs": [],
   "source": [
    "import logging\n",
    "import pandas as pd\n",
    "from scipy.spatial.distance import squareform, pdist\n",
    "\n",
    "logging.basicConfig(format='%(asctime)s %(levelname)s %(process)d --- %(name)s %(funcName)20s() : %(message)s',\n",
    "                    datefmt='%d-%b-%y %H:%M:%S', level=logging.INFO)\n",
    "\n",
    "\n",
    "class Similarity:\n",
    "    logger = logging.getLogger('Similarity')\n",
    "\n",
    "    def __init__(self):\n",
    "        self.sel_cols = ['ratings.Riding Style',\n",
    "                         'ratings.Riding Level', 'ratings.Shape', 'ratings.Camber Profile',\n",
    "                         'ratings.Stance', 'ratings.Approx. Weight', 'ratings.Powder',\n",
    "                         'ratings.Turning', 'ratings.Carving', 'ratings.Speed', 'ratings.Uneven',\n",
    "                         'ratings.Switch', 'ratings.Jumps', 'ratings.Jibbing', 'ratings.Pipe',\n",
    "                         'ratings.On', 'ratings.Turn', 'ratings.Skidded', 'ratings.Flex',\n",
    "                         'ratings.Buttering', 'ratings.Edge']\n",
    "\n",
    "        self.meta_cols = ['id',\n",
    "                          'meta_data.name',\n",
    "                          'meta_data.name',\n",
    "                          'meta_data.gender',\n",
    "                          'meta_data.url',\n",
    "                          'meta_data.price',\n",
    "                          'meta_data.image_url'\n",
    "                          ]\n",
    "\n",
    "    def calculate_similarity(self, file, topn=10, similarity_algo='jaccard'):\n",
    "        df_input = self.__prepare_data(file)\n",
    "\n",
    "        df_train = pd.get_dummies(df_input[self.sel_cols], columns=self.sel_cols)\n",
    "\n",
    "        df_distance = self.__distance_function(df_train, similarity_algo)\n",
    "\n",
    "        sim_list = []\n",
    "        for idx, row in df_distance.iterrows():\n",
    "            target = df_distance.iloc[:, idx].nsmallest(topn + 1)\n",
    "            topn_values = target[target != 0].tolist()\n",
    "            topn_index = target[target != 0].index\n",
    "            topn_id = df_input['id'][topn_index].tolist()\n",
    "            sim_dict = dict(zip(topn_id, topn_values))\n",
    "            sim_list.append(sim_dict)\n",
    "\n",
    "        df_input['similar_boards'] = sim_list\n",
    "\n",
    "        return df_input\n",
    "\n",
    "    def __prepare_data(self, file: str):\n",
    "        \"\"\"\n",
    "\n",
    "        Args:\n",
    "            file: input json file downloaded from S3 raw bucket\n",
    "\n",
    "        Returns:\n",
    "\n",
    "        \"\"\"\n",
    "        df = pd.json_normalize(file)\n",
    "        return df\n",
    "\n",
    "    def __distance_function(self, df, similarity_algo):\n",
    "        dists = pdist(df, similarity_algo)\n",
    "        return pd.DataFrame(squareform(dists))\n"
   ]
  },
  {
   "cell_type": "code",
   "execution_count": 11,
   "id": "7b1224be-d954-43a9-81bf-b9abf0d53dbc",
   "metadata": {},
   "outputs": [],
   "source": [
    "sim = Similarity()"
   ]
  },
  {
   "cell_type": "code",
   "execution_count": 13,
   "id": "70c3aaa7-7278-4cdc-ad66-3f647344b1e5",
   "metadata": {},
   "outputs": [],
   "source": [
    "df = sim.calculate_similarity(l)"
   ]
  },
  {
   "cell_type": "code",
   "execution_count": null,
   "id": "a912d2c3-327c-4847-8838-a242388d1778",
   "metadata": {},
   "outputs": [],
   "source": []
  }
 ],
 "metadata": {
  "kernelspec": {
   "display_name": "Python 3",
   "language": "python",
   "name": "python3"
  },
  "language_info": {
   "codemirror_mode": {
    "name": "ipython",
    "version": 3
   },
   "file_extension": ".py",
   "mimetype": "text/x-python",
   "name": "python",
   "nbconvert_exporter": "python",
   "pygments_lexer": "ipython3",
   "version": "3.8.10"
  }
 },
 "nbformat": 4,
 "nbformat_minor": 5
}
