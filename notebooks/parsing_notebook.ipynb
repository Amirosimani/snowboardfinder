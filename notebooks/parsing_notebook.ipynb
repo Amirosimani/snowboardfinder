{
 "cells": [
  {
   "cell_type": "code",
   "execution_count": 1,
   "metadata": {},
   "outputs": [],
   "source": [
    "import requests\n",
    "import pandas as pd\n",
    "import time\n",
    "from tqdm import tqdm\n",
    "import re\n",
    "import hashlib\n",
    "import base64\n",
    "\n",
    "from bs4 import BeautifulSoup\n",
    "from bs4.dammit import EncodingDetector\n",
    "from selenium import webdriver\n",
    "\n",
    "from sklearn.preprocessing import OneHotEncoder\n",
    "from annoy import AnnoyIndex"
   ]
  },
  {
   "cell_type": "code",
   "execution_count": 2,
   "metadata": {},
   "outputs": [],
   "source": [
    "import pandas"
   ]
  },
  {
   "cell_type": "code",
   "execution_count": 3,
   "metadata": {},
   "outputs": [],
   "source": [
    "def get_tables(html_table, tag=['th', 'tr', 'td']):\n",
    "    table_value = []\n",
    "\n",
    "\n",
    "    # for my_table in tables:\n",
    "\n",
    "    # You can find children with multiple tags by passing a list of strings\n",
    "    rows = html_table.findChildren(tag)\n",
    "\n",
    "    for row in rows:\n",
    "        cells = row.findChildren(tag)\n",
    "        for cell in cells:\n",
    "            value = cell.string\n",
    "            if value:\n",
    "                table_value.append(value.strip())\n",
    "                # print(\"The value in this cell is %s\" % value)\n",
    "            else:\n",
    "                table_value.append(\"None\")\n",
    "    return dict(zip(table_value[::2], table_value[1::2]))"
   ]
  },
  {
   "cell_type": "code",
   "execution_count": 4,
   "metadata": {},
   "outputs": [],
   "source": [
    "def parse_page(url):\n",
    "    \n",
    "    # get the html file\n",
    "    page = requests.get(url)\n",
    "    \n",
    "    if page.status_code == 200:\n",
    "        soup = BeautifulSoup(page.content, 'html.parser')\n",
    "\n",
    "        # get all the tables\n",
    "        tables = soup.findChildren('table')\n",
    "\n",
    "        # only the first 4 tables are useful\n",
    "        tables = tables[:4]\n",
    "\n",
    "\n",
    "        # UPPER LEFT TABLE\n",
    "        table_ul = get_tables(tables[0])\n",
    "\n",
    "        # UPPER RIGHT TABLE\n",
    "        rows_html = tables[1].findAll(\"span\", {\"class\": lambda x: x and x.startswith(\"rating\")})\n",
    "        rows = [x.get_text() for x in rows_html]\n",
    "        table_ur = dict(zip(rows[::2], rows[1::2]))\n",
    "\n",
    "#         # BUTTOM TABLES\n",
    "\n",
    "#         table_b = {}\n",
    "#         for t in tables[2:]:\n",
    "#             l = get_tables(t, ['td', 'p', 'tr'])\n",
    "#             table_b.update(l)\n",
    "\n",
    "\n",
    "        all_items = {**table_ul, **table_ur}\n",
    "    \n",
    "    else:\n",
    "        print(page.status_code)\n",
    "\n",
    "\n",
    "    return all_items"
   ]
  },
  {
   "cell_type": "code",
   "execution_count": 5,
   "metadata": {},
   "outputs": [],
   "source": [
    "def get_date(input_text):\n",
    "    \n",
    "    year = re.findall('[0-9]{4}', input_text)\n",
    "    \n",
    "    return year"
   ]
  },
  {
   "cell_type": "code",
   "execution_count": 6,
   "metadata": {},
   "outputs": [],
   "source": [
    "def get_all_boards(gender):\n",
    "    \n",
    "#     browser = webdriver.Safari()\n",
    "    browser = webdriver.Chrome()\n",
    "    browser.get(\"https://thegoodride.com/snowboard-reviews/?{}=1\".format(gender))\n",
    "    time.sleep(1)\n",
    "\n",
    "    button = browser.find_element_by_xpath('/html/body/div[5]/div/div/div/div[3]/form/div[1]/div[42]/a')\n",
    "    browser.execute_script(\"arguments[0].click();\", button)\n",
    "    time.sleep(400)\n",
    "    html = browser.page_source\n",
    "\n",
    "    browser.close()\n",
    "    \n",
    "    return html\n"
   ]
  },
  {
   "cell_type": "code",
   "execution_count": null,
   "metadata": {},
   "outputs": [],
   "source": [
    "genders = ['mens', 'womens']\n",
    "\n",
    "for g in genders:\n",
    "    \n",
    "    raw_html = get_all_boards(g)\n",
    "    \n",
    "    soup = BeautifulSoup(raw_html, \"html.parser\")\n",
    "    rows_html = soup.findAll(\"div\", {\"class\": \"board-reviews animate\"})\n",
    "\n",
    "    all_boards = []\n",
    "        \n",
    "    for board in rows_html:\n",
    "        board_name = board.select('h4')[0].text.strip()\n",
    "        review_url = board.select('a', href=True)[0]['href']\n",
    "        all_boards.append([board_name, review_url])\n",
    "        \n",
    "    df_url = pd.DataFrame(all_boards, columns=['board_name', 'url'])\n",
    "    print(df_url.shape)\n",
    "\n",
    "    df_url.to_csv('../data/all_{}_boards.csv'.format(g), index=False)\n",
    "    \n",
    "    rating_list = []\n",
    "    for url in tqdm(df_url['url']):\n",
    "        d = parse_page(url)\n",
    "        assert len(d) == 18\n",
    "        rating_list.append(d)\n",
    "        time.sleep(.1)\n",
    "        \n",
    "    df_rating = pd.DataFrame(rating_list)\n",
    "    df_final = pd.concat([df_url, df_rating], axis=1)\n",
    "#     df_final['year'] = df_final['url'].apply(get_date)\n",
    "    df_final['gender'] = g\n",
    "    df_final.to_csv('../data/{}_board_20201215.csv'.format(g), index=True)"
   ]
  },
  {
   "cell_type": "code",
   "execution_count": 14,
   "metadata": {},
   "outputs": [],
   "source": [
    "df_final = pd.read_csv('../data/mens_board_20201215.csv')\n",
    "df_final['gender'] = 'mens'"
   ]
  },
  {
   "cell_type": "code",
   "execution_count": 15,
   "metadata": {},
   "outputs": [],
   "source": [
    "df_final_w= pd.read_csv('../data/womens_board_20201215.csv')\n",
    "df_final_w['gender'] = 'womens'"
   ]
  },
  {
   "cell_type": "code",
   "execution_count": 16,
   "metadata": {},
   "outputs": [
    {
     "data": {
      "text/plain": [
       "((114, 22), (424, 22))"
      ]
     },
     "execution_count": 16,
     "metadata": {},
     "output_type": "execute_result"
    }
   ],
   "source": [
    "df_final_w.shape, df_final.shape"
   ]
  },
  {
   "cell_type": "code",
   "execution_count": 17,
   "metadata": {},
   "outputs": [],
   "source": [
    "df = pd.concat([df_final, df_final_w], axis=0)\n",
    "df= df.reset_index(drop=True)"
   ]
  },
  {
   "cell_type": "code",
   "execution_count": 18,
   "metadata": {},
   "outputs": [],
   "source": [
    "def hashme(x):\n",
    "    return base64.b64encode(hashlib.sha1(x).digest())"
   ]
  },
  {
   "cell_type": "code",
   "execution_count": 19,
   "metadata": {},
   "outputs": [],
   "source": [
    "df['id'] = df['url'].astype(str).str.encode('UTF-8').apply(hashme)\n",
    "df['id'] = df['id'].apply(lambda x: x.decode('utf-8'))"
   ]
  },
  {
   "cell_type": "code",
   "execution_count": 20,
   "metadata": {},
   "outputs": [],
   "source": [
    "# df = df.drop(columns=['year'])"
   ]
  },
  {
   "cell_type": "code",
   "execution_count": 21,
   "metadata": {},
   "outputs": [],
   "source": [
    "df.to_csv('../data/all_boards_20201220.csv', index=False)"
   ]
  },
  {
   "cell_type": "code",
   "execution_count": 22,
   "metadata": {},
   "outputs": [],
   "source": [
    "df = pd.read_csv('../data/all_boards_20201220.csv')"
   ]
  },
  {
   "cell_type": "code",
   "execution_count": 23,
   "metadata": {},
   "outputs": [
    {
     "data": {
      "text/plain": [
       "Index(['board_name', 'url', 'Overall Rating', 'Riding Style', 'Riding Level',\n",
       "       'Fits Boot size (US)', 'Manufactured in', 'Shape', 'Camber Profile',\n",
       "       'Stance', 'Approx. Weight', 'Powder', 'Turning Experience', 'Carving',\n",
       "       'Speed', 'Uneven Terrain', 'Switch', 'Jumps', 'Jibbing', 'Pipe', 'year',\n",
       "       'gender', 'id'],\n",
       "      dtype='object')"
      ]
     },
     "execution_count": 23,
     "metadata": {},
     "output_type": "execute_result"
    }
   ],
   "source": [
    "df = df.dropna()\n",
    "df.columns"
   ]
  },
  {
   "cell_type": "code",
   "execution_count": 24,
   "metadata": {},
   "outputs": [
    {
     "data": {
      "text/html": [
       "<div>\n",
       "<style scoped>\n",
       "    .dataframe tbody tr th:only-of-type {\n",
       "        vertical-align: middle;\n",
       "    }\n",
       "\n",
       "    .dataframe tbody tr th {\n",
       "        vertical-align: top;\n",
       "    }\n",
       "\n",
       "    .dataframe thead th {\n",
       "        text-align: right;\n",
       "    }\n",
       "</style>\n",
       "<table border=\"1\" class=\"dataframe\">\n",
       "  <thead>\n",
       "    <tr style=\"text-align: right;\">\n",
       "      <th></th>\n",
       "      <th>board_name</th>\n",
       "      <th>url</th>\n",
       "      <th>Overall Rating</th>\n",
       "      <th>Riding Style</th>\n",
       "      <th>Riding Level</th>\n",
       "      <th>Fits Boot size (US)</th>\n",
       "      <th>Manufactured in</th>\n",
       "      <th>Shape</th>\n",
       "      <th>Camber Profile</th>\n",
       "      <th>Stance</th>\n",
       "      <th>...</th>\n",
       "      <th>Carving</th>\n",
       "      <th>Speed</th>\n",
       "      <th>Uneven Terrain</th>\n",
       "      <th>Switch</th>\n",
       "      <th>Jumps</th>\n",
       "      <th>Jibbing</th>\n",
       "      <th>Pipe</th>\n",
       "      <th>year</th>\n",
       "      <th>gender</th>\n",
       "      <th>id</th>\n",
       "    </tr>\n",
       "  </thead>\n",
       "  <tbody>\n",
       "    <tr>\n",
       "      <th>0</th>\n",
       "      <td>Alloy B-Bomb</td>\n",
       "      <td>https://thegoodride.com/snowboard-reviews/allo...</td>\n",
       "      <td>Liked it!</td>\n",
       "      <td>All Mountain Freestyle</td>\n",
       "      <td>Beginner - Expert</td>\n",
       "      <td>8-10</td>\n",
       "      <td>Tunisia by Nidecker</td>\n",
       "      <td>True Twin</td>\n",
       "      <td>Hybrid Camber</td>\n",
       "      <td>Centered</td>\n",
       "      <td>...</td>\n",
       "      <td>Good</td>\n",
       "      <td>Great</td>\n",
       "      <td>Good</td>\n",
       "      <td>Great</td>\n",
       "      <td>Good</td>\n",
       "      <td>Average</td>\n",
       "      <td>Great</td>\n",
       "      <td>['2016', '2020']</td>\n",
       "      <td>mens</td>\n",
       "      <td>pcQjfBFdQmn6Aqep1PKrAJ8tpZY=</td>\n",
       "    </tr>\n",
       "    <tr>\n",
       "      <th>1</th>\n",
       "      <td>Alloy B-Bomb GT</td>\n",
       "      <td>https://thegoodride.com/snowboard-reviews/allo...</td>\n",
       "      <td>None</td>\n",
       "      <td>Freestyle</td>\n",
       "      <td>Intermediate - Expert</td>\n",
       "      <td>8-10</td>\n",
       "      <td>Tunisia by Nidecker</td>\n",
       "      <td>True Twin</td>\n",
       "      <td>Hybrid Camber</td>\n",
       "      <td>Centered</td>\n",
       "      <td>...</td>\n",
       "      <td>Average</td>\n",
       "      <td>Average</td>\n",
       "      <td>Good</td>\n",
       "      <td>Great</td>\n",
       "      <td>Good</td>\n",
       "      <td>Great</td>\n",
       "      <td>Good</td>\n",
       "      <td>['2020']</td>\n",
       "      <td>mens</td>\n",
       "      <td>WdfFXZW/dvMLdhtMZs3ihVDCRHI=</td>\n",
       "    </tr>\n",
       "    <tr>\n",
       "      <th>2</th>\n",
       "      <td>Alloy D.O Carbon</td>\n",
       "      <td>https://thegoodride.com/snowboard-reviews/allo...</td>\n",
       "      <td>Pretty Good</td>\n",
       "      <td>Freeride</td>\n",
       "      <td>Expert</td>\n",
       "      <td>8-10</td>\n",
       "      <td>Tunisia by Nidecker</td>\n",
       "      <td>Tapered Directional</td>\n",
       "      <td>Traditional Camber</td>\n",
       "      <td>Setback over 20mm</td>\n",
       "      <td>...</td>\n",
       "      <td>Excellent</td>\n",
       "      <td>Excellent</td>\n",
       "      <td>Poor</td>\n",
       "      <td>Average</td>\n",
       "      <td>Good</td>\n",
       "      <td>Poor</td>\n",
       "      <td>Poor</td>\n",
       "      <td>['2019', '2020']</td>\n",
       "      <td>mens</td>\n",
       "      <td>GLXwggrHSpW/E/vBriKPps5WPmE=</td>\n",
       "    </tr>\n",
       "    <tr>\n",
       "      <th>3</th>\n",
       "      <td>Alloy Darwin Flow</td>\n",
       "      <td>https://thegoodride.com/snowboard-reviews/allo...</td>\n",
       "      <td>None</td>\n",
       "      <td>Alternative Freeride</td>\n",
       "      <td>Advanced - Expert</td>\n",
       "      <td>8-10</td>\n",
       "      <td>Tunisia by Nidecker</td>\n",
       "      <td>Tapered Directional</td>\n",
       "      <td>Directional Camber</td>\n",
       "      <td>Setback over 20mm</td>\n",
       "      <td>...</td>\n",
       "      <td>Great</td>\n",
       "      <td>Great</td>\n",
       "      <td>Great</td>\n",
       "      <td>Poor</td>\n",
       "      <td>Average</td>\n",
       "      <td>Poor</td>\n",
       "      <td>Average</td>\n",
       "      <td>['2020']</td>\n",
       "      <td>mens</td>\n",
       "      <td>vyqJS+sM6x2avNeKZCtTt6aTMlA=</td>\n",
       "    </tr>\n",
       "    <tr>\n",
       "      <th>4</th>\n",
       "      <td>Alloy DO 7X</td>\n",
       "      <td>https://thegoodride.com/snowboard-reviews/allo...</td>\n",
       "      <td>Liked it!</td>\n",
       "      <td>Freeride</td>\n",
       "      <td>Expert</td>\n",
       "      <td>8-10</td>\n",
       "      <td>Tunisia by Nidecker</td>\n",
       "      <td>Tapered Directional</td>\n",
       "      <td>Mostly Camber</td>\n",
       "      <td>Setback over 20mm</td>\n",
       "      <td>...</td>\n",
       "      <td>Excellent</td>\n",
       "      <td>Great</td>\n",
       "      <td>Average</td>\n",
       "      <td>Average</td>\n",
       "      <td>Average</td>\n",
       "      <td>Poor</td>\n",
       "      <td>Poor</td>\n",
       "      <td>['2017']</td>\n",
       "      <td>mens</td>\n",
       "      <td>IbVxVGqf7kOWjwmJu3U0lxr16gk=</td>\n",
       "    </tr>\n",
       "  </tbody>\n",
       "</table>\n",
       "<p>5 rows × 23 columns</p>\n",
       "</div>"
      ],
      "text/plain": [
       "          board_name                                                url  \\\n",
       "0       Alloy B-Bomb  https://thegoodride.com/snowboard-reviews/allo...   \n",
       "1    Alloy B-Bomb GT  https://thegoodride.com/snowboard-reviews/allo...   \n",
       "2   Alloy D.O Carbon  https://thegoodride.com/snowboard-reviews/allo...   \n",
       "3  Alloy Darwin Flow  https://thegoodride.com/snowboard-reviews/allo...   \n",
       "4        Alloy DO 7X  https://thegoodride.com/snowboard-reviews/allo...   \n",
       "\n",
       "  Overall Rating            Riding Style           Riding Level  \\\n",
       "0      Liked it!  All Mountain Freestyle      Beginner - Expert   \n",
       "1           None               Freestyle  Intermediate - Expert   \n",
       "2    Pretty Good                Freeride                 Expert   \n",
       "3           None    Alternative Freeride      Advanced - Expert   \n",
       "4      Liked it!                Freeride                 Expert   \n",
       "\n",
       "  Fits Boot size (US)      Manufactured in                Shape  \\\n",
       "0                8-10  Tunisia by Nidecker            True Twin   \n",
       "1                8-10  Tunisia by Nidecker            True Twin   \n",
       "2                8-10  Tunisia by Nidecker  Tapered Directional   \n",
       "3                8-10  Tunisia by Nidecker  Tapered Directional   \n",
       "4                8-10  Tunisia by Nidecker  Tapered Directional   \n",
       "\n",
       "       Camber Profile             Stance  ...    Carving      Speed  \\\n",
       "0       Hybrid Camber           Centered  ...       Good      Great   \n",
       "1       Hybrid Camber           Centered  ...    Average    Average   \n",
       "2  Traditional Camber  Setback over 20mm  ...  Excellent  Excellent   \n",
       "3  Directional Camber  Setback over 20mm  ...      Great      Great   \n",
       "4       Mostly Camber  Setback over 20mm  ...  Excellent      Great   \n",
       "\n",
       "  Uneven Terrain   Switch    Jumps  Jibbing     Pipe              year gender  \\\n",
       "0           Good    Great     Good  Average    Great  ['2016', '2020']   mens   \n",
       "1           Good    Great     Good    Great     Good          ['2020']   mens   \n",
       "2           Poor  Average     Good     Poor     Poor  ['2019', '2020']   mens   \n",
       "3          Great     Poor  Average     Poor  Average          ['2020']   mens   \n",
       "4        Average  Average  Average     Poor     Poor          ['2017']   mens   \n",
       "\n",
       "                             id  \n",
       "0  pcQjfBFdQmn6Aqep1PKrAJ8tpZY=  \n",
       "1  WdfFXZW/dvMLdhtMZs3ihVDCRHI=  \n",
       "2  GLXwggrHSpW/E/vBriKPps5WPmE=  \n",
       "3  vyqJS+sM6x2avNeKZCtTt6aTMlA=  \n",
       "4  IbVxVGqf7kOWjwmJu3U0lxr16gk=  \n",
       "\n",
       "[5 rows x 23 columns]"
      ]
     },
     "execution_count": 24,
     "metadata": {},
     "output_type": "execute_result"
    }
   ],
   "source": [
    "df.head()"
   ]
  },
  {
   "cell_type": "code",
   "execution_count": 25,
   "metadata": {},
   "outputs": [],
   "source": [
    "import boto3\n",
    "import os\n",
    "import re\n",
    "from pathlib import Path\n",
    "from tqdm import tqdm\n",
    "\n",
    "\n",
    "from botocore.exceptions import ClientError\n",
    "\n",
    "def create_bucket(bucket_name, region=None):\n",
    "    \"\"\"Create an S3 bucket in a specified region\n",
    "\n",
    "    If a region is not specified, the bucket is created in the S3 default\n",
    "    region (us-east-1).\n",
    "\n",
    "    :param bucket_name: Bucket to create\n",
    "    :param region: String region to create bucket in, e.g., 'us-west-2'\n",
    "    :return: True if bucket created, else False\n",
    "    \"\"\"\n",
    "\n",
    "    # Create bucket\n",
    "    try:\n",
    "        if region is None:\n",
    "            s3_client = boto3.client('s3')\n",
    "            s3_client.create_bucket(Bucket=bucket_name)\n",
    "        else:\n",
    "            s3_client = boto3.client('s3', region_name=region)\n",
    "            location = {'LocationConstraint': region}\n",
    "            s3_client.create_bucket(Bucket=bucket_name,\n",
    "                                    CreateBucketConfiguration=location)\n",
    "    except ClientError as e:\n",
    "        logging.error(e)\n",
    "        return False\n",
    "    return True\n",
    "\n",
    "def upload_file(file_name, bucket, object_name=None):\n",
    "    \"\"\"Upload a file to an S3 bucket\n",
    "\n",
    "    :param file_name: File to upload\n",
    "    :param bucket: Bucket to upload to\n",
    "    :param object_name: S3 object name. If not specified then file_name is used\n",
    "    :return: True if file was uploaded, else False\n",
    "    \"\"\"\n",
    "\n",
    "    # If S3 object_name was not specified, use file_name\n",
    "    if object_name is None:\n",
    "        object_name = file_name\n",
    "\n",
    "    # Upload the file\n",
    "    s3_client = boto3.client('s3')\n",
    "#     try:\n",
    "    response = s3_client.upload_file(file_name, bucket, object_name)\n",
    "#     exceptions ClientError as e:\n",
    "#         logging.error(e)\n",
    "#         return False\n",
    "    return True"
   ]
  },
  {
   "cell_type": "code",
   "execution_count": 26,
   "metadata": {},
   "outputs": [
    {
     "data": {
      "text/plain": [
       "True"
      ]
     },
     "execution_count": 26,
     "metadata": {},
     "output_type": "execute_result"
    }
   ],
   "source": [
    "create_bucket(\"snowboard-finder\")"
   ]
  },
  {
   "cell_type": "code",
   "execution_count": 27,
   "metadata": {},
   "outputs": [
    {
     "data": {
      "text/plain": [
       "True"
      ]
     },
     "execution_count": 27,
     "metadata": {},
     "output_type": "execute_result"
    }
   ],
   "source": [
    "upload_file('../data/all_boards_20201220.csv', \"snowboard-finder\", \"all_boards_20201220.csv\")"
   ]
  },
  {
   "cell_type": "markdown",
   "metadata": {},
   "source": [
    "# Board Recomendation"
   ]
  },
  {
   "cell_type": "code",
   "execution_count": null,
   "metadata": {},
   "outputs": [],
   "source": [
    "df_final = pd.read_csv('../data/mens_board_20201215.csv')\n",
    "df_final.shape"
   ]
  },
  {
   "cell_type": "code",
   "execution_count": null,
   "metadata": {},
   "outputs": [],
   "source": [
    "filter_cols = ['Riding Style', 'Riding Level', 'Shape', 'Camber Profile',\n",
    "       'Stance', 'Approx. Weight', 'Powder', 'Turning Experience', 'Carving',\n",
    "       'Speed', 'Uneven Terrain', 'Switch', 'Jumps', 'Jibbing', 'Pipe' ]"
   ]
  },
  {
   "cell_type": "code",
   "execution_count": null,
   "metadata": {},
   "outputs": [],
   "source": [
    "df_final.head()"
   ]
  },
  {
   "cell_type": "code",
   "execution_count": null,
   "metadata": {},
   "outputs": [],
   "source": [
    "df_final[filter_cols].head()"
   ]
  },
  {
   "cell_type": "code",
   "execution_count": null,
   "metadata": {},
   "outputs": [],
   "source": [
    "# for col in filter_cols:\n",
    "#     print(df_final[col].unique())"
   ]
  },
  {
   "cell_type": "code",
   "execution_count": null,
   "metadata": {},
   "outputs": [],
   "source": [
    "# df_final[filter_cols].get_dummies()\n",
    "df_final_dummies = pd.get_dummies(df_final, columns=filter_cols)\n",
    "df_final_dummies.shape"
   ]
  },
  {
   "cell_type": "code",
   "execution_count": null,
   "metadata": {},
   "outputs": [],
   "source": [
    "meta_cols = ['board_name', 'url', 'Overall Rating',\n",
    "             'Fits Boot size (US)', 'Manufactured in', 'year']"
   ]
  },
  {
   "cell_type": "markdown",
   "metadata": {},
   "source": [
    "### ANNOY"
   ]
  },
  {
   "cell_type": "code",
   "execution_count": null,
   "metadata": {},
   "outputs": [],
   "source": [
    "f = df_final_dummies.shape[1] - len(meta_cols)"
   ]
  },
  {
   "cell_type": "code",
   "execution_count": null,
   "metadata": {},
   "outputs": [],
   "source": [
    "a = AnnoyIndex(f, 'angular')"
   ]
  },
  {
   "cell_type": "code",
   "execution_count": null,
   "metadata": {},
   "outputs": [],
   "source": [
    "for idx, row in df_final_dummies.drop(labels=meta_cols, axis=1).iterrows():\n",
    "     a.add_item(idx, row.to_list())\n",
    "#     print(row.values)"
   ]
  },
  {
   "cell_type": "code",
   "execution_count": null,
   "metadata": {},
   "outputs": [],
   "source": [
    "a.build(10)\n",
    "a.save('../model/annoy_men_angular_20201216.ann')"
   ]
  },
  {
   "cell_type": "code",
   "execution_count": null,
   "metadata": {},
   "outputs": [],
   "source": [
    "u = AnnoyIndex(f, 'angular')\n",
    "u.load('../model/annoy_men_angular_20201216.ann') # super fast, will just mmap the file"
   ]
  },
  {
   "cell_type": "code",
   "execution_count": null,
   "metadata": {},
   "outputs": [],
   "source": [
    "print(u.get_nns_by_item(173, 1000)) # will find the 1000 nearest neighbors"
   ]
  },
  {
   "cell_type": "markdown",
   "metadata": {},
   "source": [
    "### Pairwise distance"
   ]
  },
  {
   "cell_type": "code",
   "execution_count": null,
   "metadata": {},
   "outputs": [],
   "source": [
    "from scipy.spatial.distance import squareform, pdist\n",
    "\n",
    "def distance_function(r):\n",
    "    dists = pdist(r, 'jaccard')\n",
    "    \n",
    "    return pd.DataFrame(squareform(dists))"
   ]
  },
  {
   "cell_type": "code",
   "execution_count": null,
   "metadata": {},
   "outputs": [],
   "source": [
    "df_dist = distance_function(df_final_dummies.drop(labels=meta_cols, axis=1).values)"
   ]
  },
  {
   "cell_type": "code",
   "execution_count": null,
   "metadata": {},
   "outputs": [],
   "source": [
    "reference_index = df_final[df_final['board_name'].str.contains('Jones  Mountain Twin')].index[0]"
   ]
  },
  {
   "cell_type": "code",
   "execution_count": null,
   "metadata": {},
   "outputs": [],
   "source": [
    "target = df_dist.iloc[:, reference_index].nsmallest(6)\n",
    "target = target.iloc[1:]\n",
    "target"
   ]
  },
  {
   "cell_type": "code",
   "execution_count": null,
   "metadata": {},
   "outputs": [],
   "source": [
    "df_rec = df_final.iloc[taget_index, :]\n",
    "df_rec['similarity'] =  target.values"
   ]
  },
  {
   "cell_type": "code",
   "execution_count": null,
   "metadata": {},
   "outputs": [],
   "source": [
    "df_rec"
   ]
  },
  {
   "cell_type": "code",
   "execution_count": null,
   "metadata": {},
   "outputs": [],
   "source": []
  }
 ],
 "metadata": {
  "instance_type": "ml.t3.medium",
  "kernelspec": {
   "display_name": "Python 3 (Data Science)",
   "language": "python",
   "name": "python3__SAGEMAKER_INTERNAL__arn:aws:sagemaker:us-east-1:081325390199:image/datascience-1.0"
  },
  "language_info": {
   "codemirror_mode": {
    "name": "ipython",
    "version": 3
   },
   "file_extension": ".py",
   "mimetype": "text/x-python",
   "name": "python",
   "nbconvert_exporter": "python",
   "pygments_lexer": "ipython3",
   "version": "3.7.9"
  }
 },
 "nbformat": 4,
 "nbformat_minor": 4
}
