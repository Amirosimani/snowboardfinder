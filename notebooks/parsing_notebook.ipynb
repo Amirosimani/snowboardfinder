{
 "cells": [
  {
   "cell_type": "code",
   "execution_count": 1,
   "metadata": {},
   "outputs": [],
   "source": [
    "import requests\n",
    "import pandas as pd\n",
    "import time\n",
    "from tqdm import tqdm\n",
    "import re\n",
    "\n",
    "from bs4 import BeautifulSoup\n",
    "from bs4.dammit import EncodingDetector\n",
    "from selenium import webdriver\n",
    "\n",
    "from sklearn.preprocessing import OneHotEncoder\n",
    "from annoy import AnnoyIndex"
   ]
  },
  {
   "cell_type": "code",
   "execution_count": null,
   "metadata": {},
   "outputs": [],
   "source": [
    "def get_tables(html_table, tag=['th', 'tr', 'td']):\n",
    "    table_value = []\n",
    "\n",
    "\n",
    "    # for my_table in tables:\n",
    "\n",
    "    # You can find children with multiple tags by passing a list of strings\n",
    "    rows = html_table.findChildren(tag)\n",
    "\n",
    "    for row in rows:\n",
    "        cells = row.findChildren(tag)\n",
    "        for cell in cells:\n",
    "            value = cell.string\n",
    "            if value:\n",
    "                table_value.append(value.strip())\n",
    "                # print(\"The value in this cell is %s\" % value)\n",
    "            else:\n",
    "                table_value.append(\"None\")\n",
    "    return dict(zip(table_value[::2], table_value[1::2]))"
   ]
  },
  {
   "cell_type": "code",
   "execution_count": null,
   "metadata": {},
   "outputs": [],
   "source": [
    "def parse_page(url):\n",
    "    \n",
    "    # get the html file\n",
    "    page = requests.get(url)\n",
    "    \n",
    "    if page.status_code == 200:\n",
    "        soup = BeautifulSoup(page.content, 'html.parser')\n",
    "\n",
    "        # get all the tables\n",
    "        tables = soup.findChildren('table')\n",
    "\n",
    "        # only the first 4 tables are useful\n",
    "        tables = tables[:4]\n",
    "\n",
    "\n",
    "        # UPPER LEFT TABLE\n",
    "        table_ul = get_tables(tables[0])\n",
    "\n",
    "        # UPPER RIGHT TABLE\n",
    "        rows_html = tables[1].findAll(\"span\", {\"class\": lambda x: x and x.startswith(\"rating\")})\n",
    "        rows = [x.get_text() for x in rows_html]\n",
    "        table_ur = dict(zip(rows[::2], rows[1::2]))\n",
    "\n",
    "#         # BUTTOM TABLES\n",
    "\n",
    "#         table_b = {}\n",
    "#         for t in tables[2:]:\n",
    "#             l = get_tables(t, ['td', 'p', 'tr'])\n",
    "#             table_b.update(l)\n",
    "\n",
    "\n",
    "        all_items = {**table_ul, **table_ur}\n",
    "    \n",
    "    else:\n",
    "        print(page.status_code)\n",
    "\n",
    "\n",
    "    return all_items"
   ]
  },
  {
   "cell_type": "code",
   "execution_count": null,
   "metadata": {},
   "outputs": [],
   "source": [
    "def get_date(input_text):\n",
    "    \n",
    "    year = re.findall('[0-9]{4}', input_text)\n",
    "    \n",
    "    return year"
   ]
  },
  {
   "cell_type": "code",
   "execution_count": null,
   "metadata": {},
   "outputs": [],
   "source": [
    "def get_all_boards(gender):\n",
    "    \n",
    "#     browser = webdriver.Safari()\n",
    "    browser = webdriver.Chrome()\n",
    "    browser.get(\"https://thegoodride.com/snowboard-reviews/?{}=1\".format(gender))\n",
    "    time.sleep(1)\n",
    "\n",
    "    button = browser.find_element_by_xpath('/html/body/div[5]/div/div/div/div[3]/form/div[1]/div[42]/a')\n",
    "    browser.execute_script(\"arguments[0].click();\", button)\n",
    "    time.sleep(400)\n",
    "    html = browser.page_source\n",
    "\n",
    "    browser.close()\n",
    "    \n",
    "    return html\n"
   ]
  },
  {
   "cell_type": "code",
   "execution_count": null,
   "metadata": {},
   "outputs": [],
   "source": [
    "genders = ['mens', 'womens']\n",
    "\n",
    "for g in genders:\n",
    "    \n",
    "    raw_html = get_all_boards(g)\n",
    "    \n",
    "    soup = BeautifulSoup(raw_html, \"html.parser\")\n",
    "    rows_html = soup.findAll(\"div\", {\"class\": \"board-reviews animate\"})\n",
    "\n",
    "    all_boards = []\n",
    "        \n",
    "    for board in rows_html:\n",
    "        board_name = board.select('h4')[0].text.strip()\n",
    "        review_url = board.select('a', href=True)[0]['href']\n",
    "        all_boards.append([board_name, review_url])\n",
    "        \n",
    "    df_url = pd.DataFrame(all_boards, columns=['board_name', 'url'])\n",
    "    print(df_url.shape)\n",
    "\n",
    "    df_url.to_csv('../data/all_{}_boards.csv'.format(g), index=False)\n",
    "    \n",
    "    rating_list = []\n",
    "    for url in tqdm(df_url['url']):\n",
    "        d = parse_page(url)\n",
    "        assert len(d) == 18\n",
    "        rating_list.append(d)\n",
    "        time.sleep(.1)\n",
    "        \n",
    "    df_rating = pd.DataFrame(rating_list)\n",
    "    df_final = pd.concat([df_url, df_rating], axis=1)\n",
    "    df_final['year'] = df_final['url'].apply(get_date)\n",
    "    df_final.to_csv('../data/{}_board_20201215.csv'.format(g), index=False)"
   ]
  },
  {
   "cell_type": "code",
   "execution_count": null,
   "metadata": {},
   "outputs": [],
   "source": [
    "for col in df_final.iloc[:, 2:]:\n",
    "    print(df_final[col].unique())"
   ]
  },
  {
   "cell_type": "code",
   "execution_count": null,
   "metadata": {},
   "outputs": [],
   "source": [
    "df_final.head()"
   ]
  },
  {
   "cell_type": "code",
   "execution_count": 37,
   "metadata": {},
   "outputs": [],
   "source": [
    "import boto3\n",
    "import os\n",
    "import re\n",
    "from pathlib import Path\n",
    "from tqdm import tqdm\n",
    "\n",
    "\n",
    "from botocore.exceptions import ClientError\n",
    "\n",
    "def create_bucket(bucket_name, region=None):\n",
    "    \"\"\"Create an S3 bucket in a specified region\n",
    "\n",
    "    If a region is not specified, the bucket is created in the S3 default\n",
    "    region (us-east-1).\n",
    "\n",
    "    :param bucket_name: Bucket to create\n",
    "    :param region: String region to create bucket in, e.g., 'us-west-2'\n",
    "    :return: True if bucket created, else False\n",
    "    \"\"\"\n",
    "\n",
    "    # Create bucket\n",
    "    try:\n",
    "        if region is None:\n",
    "            s3_client = boto3.client('s3')\n",
    "            s3_client.create_bucket(Bucket=bucket_name)\n",
    "        else:\n",
    "            s3_client = boto3.client('s3', region_name=region)\n",
    "            location = {'LocationConstraint': region}\n",
    "            s3_client.create_bucket(Bucket=bucket_name,\n",
    "                                    CreateBucketConfiguration=location)\n",
    "    except ClientError as e:\n",
    "        logging.error(e)\n",
    "        return False\n",
    "    return True\n",
    "\n",
    "def upload_file(file_name, bucket, object_name=None):\n",
    "    \"\"\"Upload a file to an S3 bucket\n",
    "\n",
    "    :param file_name: File to upload\n",
    "    :param bucket: Bucket to upload to\n",
    "    :param object_name: S3 object name. If not specified then file_name is used\n",
    "    :return: True if file was uploaded, else False\n",
    "    \"\"\"\n",
    "\n",
    "    # If S3 object_name was not specified, use file_name\n",
    "    if object_name is None:\n",
    "        object_name = file_name\n",
    "\n",
    "    # Upload the file\n",
    "    s3_client = boto3.client('s3')\n",
    "    try:\n",
    "        response = s3_client.upload_file(file_name, bucket, object_name)\n",
    "    except ClientError as e:\n",
    "        logging.error(e)\n",
    "        return False\n",
    "    return True"
   ]
  },
  {
   "cell_type": "code",
   "execution_count": 36,
   "metadata": {},
   "outputs": [
    {
     "data": {
      "text/plain": [
       "True"
      ]
     },
     "execution_count": 36,
     "metadata": {},
     "output_type": "execute_result"
    }
   ],
   "source": [
    "create_bucket(\"snowboard-finder\")"
   ]
  },
  {
   "cell_type": "code",
   "execution_count": 39,
   "metadata": {},
   "outputs": [
    {
     "data": {
      "text/plain": [
       "True"
      ]
     },
     "execution_count": 39,
     "metadata": {},
     "output_type": "execute_result"
    }
   ],
   "source": [
    "upload_file('../data/mens_board_20201215.csv', \"snowboard-finder\", \"mens_board_20201215.csv\")"
   ]
  },
  {
   "cell_type": "markdown",
   "metadata": {},
   "source": [
    "# Board Recomendation"
   ]
  },
  {
   "cell_type": "code",
   "execution_count": 2,
   "metadata": {},
   "outputs": [
    {
     "data": {
      "text/plain": [
       "(424, 21)"
      ]
     },
     "execution_count": 2,
     "metadata": {},
     "output_type": "execute_result"
    }
   ],
   "source": [
    "df_final = pd.read_csv('../data/mens_board_20201215.csv')\n",
    "df_final.shape"
   ]
  },
  {
   "cell_type": "code",
   "execution_count": 3,
   "metadata": {},
   "outputs": [],
   "source": [
    "filter_cols = ['Riding Style', 'Riding Level', 'Shape', 'Camber Profile',\n",
    "       'Stance', 'Approx. Weight', 'Powder', 'Turning Experience', 'Carving',\n",
    "       'Speed', 'Uneven Terrain', 'Switch', 'Jumps', 'Jibbing', 'Pipe' ]"
   ]
  },
  {
   "cell_type": "code",
   "execution_count": 4,
   "metadata": {},
   "outputs": [
    {
     "data": {
      "text/html": [
       "<div>\n",
       "<style scoped>\n",
       "    .dataframe tbody tr th:only-of-type {\n",
       "        vertical-align: middle;\n",
       "    }\n",
       "\n",
       "    .dataframe tbody tr th {\n",
       "        vertical-align: top;\n",
       "    }\n",
       "\n",
       "    .dataframe thead th {\n",
       "        text-align: right;\n",
       "    }\n",
       "</style>\n",
       "<table border=\"1\" class=\"dataframe\">\n",
       "  <thead>\n",
       "    <tr style=\"text-align: right;\">\n",
       "      <th></th>\n",
       "      <th>board_name</th>\n",
       "      <th>url</th>\n",
       "      <th>Overall Rating</th>\n",
       "      <th>Riding Style</th>\n",
       "      <th>Riding Level</th>\n",
       "      <th>Fits Boot size (US)</th>\n",
       "      <th>Manufactured in</th>\n",
       "      <th>Shape</th>\n",
       "      <th>Camber Profile</th>\n",
       "      <th>Stance</th>\n",
       "      <th>...</th>\n",
       "      <th>Powder</th>\n",
       "      <th>Turning Experience</th>\n",
       "      <th>Carving</th>\n",
       "      <th>Speed</th>\n",
       "      <th>Uneven Terrain</th>\n",
       "      <th>Switch</th>\n",
       "      <th>Jumps</th>\n",
       "      <th>Jibbing</th>\n",
       "      <th>Pipe</th>\n",
       "      <th>year</th>\n",
       "    </tr>\n",
       "  </thead>\n",
       "  <tbody>\n",
       "    <tr>\n",
       "      <th>0</th>\n",
       "      <td>Alloy B-Bomb</td>\n",
       "      <td>https://thegoodride.com/snowboard-reviews/allo...</td>\n",
       "      <td>Liked it!</td>\n",
       "      <td>All Mountain Freestyle</td>\n",
       "      <td>Beginner - Expert</td>\n",
       "      <td>8-10</td>\n",
       "      <td>Tunisia by Nidecker</td>\n",
       "      <td>True Twin</td>\n",
       "      <td>Hybrid Camber</td>\n",
       "      <td>Centered</td>\n",
       "      <td>...</td>\n",
       "      <td>Average</td>\n",
       "      <td>Good</td>\n",
       "      <td>Good</td>\n",
       "      <td>Great</td>\n",
       "      <td>Good</td>\n",
       "      <td>Great</td>\n",
       "      <td>Good</td>\n",
       "      <td>Average</td>\n",
       "      <td>Great</td>\n",
       "      <td>['2016', '2020']</td>\n",
       "    </tr>\n",
       "    <tr>\n",
       "      <th>1</th>\n",
       "      <td>Alloy B-Bomb GT</td>\n",
       "      <td>https://thegoodride.com/snowboard-reviews/allo...</td>\n",
       "      <td>None</td>\n",
       "      <td>Freestyle</td>\n",
       "      <td>Intermediate - Expert</td>\n",
       "      <td>8-10</td>\n",
       "      <td>Tunisia by Nidecker</td>\n",
       "      <td>True Twin</td>\n",
       "      <td>Hybrid Camber</td>\n",
       "      <td>Centered</td>\n",
       "      <td>...</td>\n",
       "      <td>Average</td>\n",
       "      <td>Average</td>\n",
       "      <td>Average</td>\n",
       "      <td>Average</td>\n",
       "      <td>Good</td>\n",
       "      <td>Great</td>\n",
       "      <td>Good</td>\n",
       "      <td>Great</td>\n",
       "      <td>Good</td>\n",
       "      <td>['2020']</td>\n",
       "    </tr>\n",
       "    <tr>\n",
       "      <th>2</th>\n",
       "      <td>Alloy D.O Carbon</td>\n",
       "      <td>https://thegoodride.com/snowboard-reviews/allo...</td>\n",
       "      <td>Pretty Good</td>\n",
       "      <td>Freeride</td>\n",
       "      <td>Expert</td>\n",
       "      <td>8-10</td>\n",
       "      <td>Tunisia by Nidecker</td>\n",
       "      <td>Tapered Directional</td>\n",
       "      <td>Traditional Camber</td>\n",
       "      <td>Setback over 20mm</td>\n",
       "      <td>...</td>\n",
       "      <td>Poor</td>\n",
       "      <td>Great</td>\n",
       "      <td>Excellent</td>\n",
       "      <td>Excellent</td>\n",
       "      <td>Poor</td>\n",
       "      <td>Average</td>\n",
       "      <td>Good</td>\n",
       "      <td>Poor</td>\n",
       "      <td>Poor</td>\n",
       "      <td>['2019', '2020']</td>\n",
       "    </tr>\n",
       "    <tr>\n",
       "      <th>3</th>\n",
       "      <td>Alloy Darwin Flow</td>\n",
       "      <td>https://thegoodride.com/snowboard-reviews/allo...</td>\n",
       "      <td>None</td>\n",
       "      <td>Alternative Freeride</td>\n",
       "      <td>Advanced - Expert</td>\n",
       "      <td>8-10</td>\n",
       "      <td>Tunisia by Nidecker</td>\n",
       "      <td>Tapered Directional</td>\n",
       "      <td>Directional Camber</td>\n",
       "      <td>Setback over 20mm</td>\n",
       "      <td>...</td>\n",
       "      <td>Good</td>\n",
       "      <td>Great</td>\n",
       "      <td>Great</td>\n",
       "      <td>Great</td>\n",
       "      <td>Great</td>\n",
       "      <td>Poor</td>\n",
       "      <td>Average</td>\n",
       "      <td>Poor</td>\n",
       "      <td>Average</td>\n",
       "      <td>['2020']</td>\n",
       "    </tr>\n",
       "    <tr>\n",
       "      <th>4</th>\n",
       "      <td>Alloy DO 7X</td>\n",
       "      <td>https://thegoodride.com/snowboard-reviews/allo...</td>\n",
       "      <td>Liked it!</td>\n",
       "      <td>Freeride</td>\n",
       "      <td>Expert</td>\n",
       "      <td>8-10</td>\n",
       "      <td>Tunisia by Nidecker</td>\n",
       "      <td>Tapered Directional</td>\n",
       "      <td>Mostly Camber</td>\n",
       "      <td>Setback over 20mm</td>\n",
       "      <td>...</td>\n",
       "      <td>Poor</td>\n",
       "      <td>Excellent</td>\n",
       "      <td>Excellent</td>\n",
       "      <td>Great</td>\n",
       "      <td>Average</td>\n",
       "      <td>Average</td>\n",
       "      <td>Average</td>\n",
       "      <td>Poor</td>\n",
       "      <td>Poor</td>\n",
       "      <td>['2017']</td>\n",
       "    </tr>\n",
       "  </tbody>\n",
       "</table>\n",
       "<p>5 rows × 21 columns</p>\n",
       "</div>"
      ],
      "text/plain": [
       "          board_name                                                url  \\\n",
       "0       Alloy B-Bomb  https://thegoodride.com/snowboard-reviews/allo...   \n",
       "1    Alloy B-Bomb GT  https://thegoodride.com/snowboard-reviews/allo...   \n",
       "2   Alloy D.O Carbon  https://thegoodride.com/snowboard-reviews/allo...   \n",
       "3  Alloy Darwin Flow  https://thegoodride.com/snowboard-reviews/allo...   \n",
       "4        Alloy DO 7X  https://thegoodride.com/snowboard-reviews/allo...   \n",
       "\n",
       "  Overall Rating            Riding Style           Riding Level  \\\n",
       "0      Liked it!  All Mountain Freestyle      Beginner - Expert   \n",
       "1           None               Freestyle  Intermediate - Expert   \n",
       "2    Pretty Good                Freeride                 Expert   \n",
       "3           None    Alternative Freeride      Advanced - Expert   \n",
       "4      Liked it!                Freeride                 Expert   \n",
       "\n",
       "  Fits Boot size (US)      Manufactured in                Shape  \\\n",
       "0                8-10  Tunisia by Nidecker            True Twin   \n",
       "1                8-10  Tunisia by Nidecker            True Twin   \n",
       "2                8-10  Tunisia by Nidecker  Tapered Directional   \n",
       "3                8-10  Tunisia by Nidecker  Tapered Directional   \n",
       "4                8-10  Tunisia by Nidecker  Tapered Directional   \n",
       "\n",
       "       Camber Profile             Stance  ...   Powder Turning Experience  \\\n",
       "0       Hybrid Camber           Centered  ...  Average               Good   \n",
       "1       Hybrid Camber           Centered  ...  Average            Average   \n",
       "2  Traditional Camber  Setback over 20mm  ...     Poor              Great   \n",
       "3  Directional Camber  Setback over 20mm  ...     Good              Great   \n",
       "4       Mostly Camber  Setback over 20mm  ...     Poor          Excellent   \n",
       "\n",
       "     Carving      Speed Uneven Terrain   Switch    Jumps  Jibbing     Pipe  \\\n",
       "0       Good      Great           Good    Great     Good  Average    Great   \n",
       "1    Average    Average           Good    Great     Good    Great     Good   \n",
       "2  Excellent  Excellent           Poor  Average     Good     Poor     Poor   \n",
       "3      Great      Great          Great     Poor  Average     Poor  Average   \n",
       "4  Excellent      Great        Average  Average  Average     Poor     Poor   \n",
       "\n",
       "               year  \n",
       "0  ['2016', '2020']  \n",
       "1          ['2020']  \n",
       "2  ['2019', '2020']  \n",
       "3          ['2020']  \n",
       "4          ['2017']  \n",
       "\n",
       "[5 rows x 21 columns]"
      ]
     },
     "execution_count": 4,
     "metadata": {},
     "output_type": "execute_result"
    }
   ],
   "source": [
    "df_final.head()"
   ]
  },
  {
   "cell_type": "code",
   "execution_count": 5,
   "metadata": {},
   "outputs": [
    {
     "data": {
      "text/html": [
       "<div>\n",
       "<style scoped>\n",
       "    .dataframe tbody tr th:only-of-type {\n",
       "        vertical-align: middle;\n",
       "    }\n",
       "\n",
       "    .dataframe tbody tr th {\n",
       "        vertical-align: top;\n",
       "    }\n",
       "\n",
       "    .dataframe thead th {\n",
       "        text-align: right;\n",
       "    }\n",
       "</style>\n",
       "<table border=\"1\" class=\"dataframe\">\n",
       "  <thead>\n",
       "    <tr style=\"text-align: right;\">\n",
       "      <th></th>\n",
       "      <th>Riding Style</th>\n",
       "      <th>Riding Level</th>\n",
       "      <th>Shape</th>\n",
       "      <th>Camber Profile</th>\n",
       "      <th>Stance</th>\n",
       "      <th>Approx. Weight</th>\n",
       "      <th>Powder</th>\n",
       "      <th>Turning Experience</th>\n",
       "      <th>Carving</th>\n",
       "      <th>Speed</th>\n",
       "      <th>Uneven Terrain</th>\n",
       "      <th>Switch</th>\n",
       "      <th>Jumps</th>\n",
       "      <th>Jibbing</th>\n",
       "      <th>Pipe</th>\n",
       "    </tr>\n",
       "  </thead>\n",
       "  <tbody>\n",
       "    <tr>\n",
       "      <th>0</th>\n",
       "      <td>All Mountain Freestyle</td>\n",
       "      <td>Beginner - Expert</td>\n",
       "      <td>True Twin</td>\n",
       "      <td>Hybrid Camber</td>\n",
       "      <td>Centered</td>\n",
       "      <td>Feels Normal</td>\n",
       "      <td>Average</td>\n",
       "      <td>Good</td>\n",
       "      <td>Good</td>\n",
       "      <td>Great</td>\n",
       "      <td>Good</td>\n",
       "      <td>Great</td>\n",
       "      <td>Good</td>\n",
       "      <td>Average</td>\n",
       "      <td>Great</td>\n",
       "    </tr>\n",
       "    <tr>\n",
       "      <th>1</th>\n",
       "      <td>Freestyle</td>\n",
       "      <td>Intermediate - Expert</td>\n",
       "      <td>True Twin</td>\n",
       "      <td>Hybrid Camber</td>\n",
       "      <td>Centered</td>\n",
       "      <td>Feels Normal</td>\n",
       "      <td>Average</td>\n",
       "      <td>Average</td>\n",
       "      <td>Average</td>\n",
       "      <td>Average</td>\n",
       "      <td>Good</td>\n",
       "      <td>Great</td>\n",
       "      <td>Good</td>\n",
       "      <td>Great</td>\n",
       "      <td>Good</td>\n",
       "    </tr>\n",
       "    <tr>\n",
       "      <th>2</th>\n",
       "      <td>Freeride</td>\n",
       "      <td>Expert</td>\n",
       "      <td>Tapered Directional</td>\n",
       "      <td>Traditional Camber</td>\n",
       "      <td>Setback over 20mm</td>\n",
       "      <td>Feels Heavy</td>\n",
       "      <td>Poor</td>\n",
       "      <td>Great</td>\n",
       "      <td>Excellent</td>\n",
       "      <td>Excellent</td>\n",
       "      <td>Poor</td>\n",
       "      <td>Average</td>\n",
       "      <td>Good</td>\n",
       "      <td>Poor</td>\n",
       "      <td>Poor</td>\n",
       "    </tr>\n",
       "    <tr>\n",
       "      <th>3</th>\n",
       "      <td>Alternative Freeride</td>\n",
       "      <td>Advanced - Expert</td>\n",
       "      <td>Tapered Directional</td>\n",
       "      <td>Directional Camber</td>\n",
       "      <td>Setback over 20mm</td>\n",
       "      <td>Feels Normal</td>\n",
       "      <td>Good</td>\n",
       "      <td>Great</td>\n",
       "      <td>Great</td>\n",
       "      <td>Great</td>\n",
       "      <td>Great</td>\n",
       "      <td>Poor</td>\n",
       "      <td>Average</td>\n",
       "      <td>Poor</td>\n",
       "      <td>Average</td>\n",
       "    </tr>\n",
       "    <tr>\n",
       "      <th>4</th>\n",
       "      <td>Freeride</td>\n",
       "      <td>Expert</td>\n",
       "      <td>Tapered Directional</td>\n",
       "      <td>Mostly Camber</td>\n",
       "      <td>Setback over 20mm</td>\n",
       "      <td>Feels Normal</td>\n",
       "      <td>Poor</td>\n",
       "      <td>Excellent</td>\n",
       "      <td>Excellent</td>\n",
       "      <td>Great</td>\n",
       "      <td>Average</td>\n",
       "      <td>Average</td>\n",
       "      <td>Average</td>\n",
       "      <td>Poor</td>\n",
       "      <td>Poor</td>\n",
       "    </tr>\n",
       "  </tbody>\n",
       "</table>\n",
       "</div>"
      ],
      "text/plain": [
       "             Riding Style           Riding Level                Shape  \\\n",
       "0  All Mountain Freestyle      Beginner - Expert            True Twin   \n",
       "1               Freestyle  Intermediate - Expert            True Twin   \n",
       "2                Freeride                 Expert  Tapered Directional   \n",
       "3    Alternative Freeride      Advanced - Expert  Tapered Directional   \n",
       "4                Freeride                 Expert  Tapered Directional   \n",
       "\n",
       "       Camber Profile             Stance Approx. Weight   Powder  \\\n",
       "0       Hybrid Camber           Centered   Feels Normal  Average   \n",
       "1       Hybrid Camber           Centered   Feels Normal  Average   \n",
       "2  Traditional Camber  Setback over 20mm    Feels Heavy     Poor   \n",
       "3  Directional Camber  Setback over 20mm   Feels Normal     Good   \n",
       "4       Mostly Camber  Setback over 20mm   Feels Normal     Poor   \n",
       "\n",
       "  Turning Experience    Carving      Speed Uneven Terrain   Switch    Jumps  \\\n",
       "0               Good       Good      Great           Good    Great     Good   \n",
       "1            Average    Average    Average           Good    Great     Good   \n",
       "2              Great  Excellent  Excellent           Poor  Average     Good   \n",
       "3              Great      Great      Great          Great     Poor  Average   \n",
       "4          Excellent  Excellent      Great        Average  Average  Average   \n",
       "\n",
       "   Jibbing     Pipe  \n",
       "0  Average    Great  \n",
       "1    Great     Good  \n",
       "2     Poor     Poor  \n",
       "3     Poor  Average  \n",
       "4     Poor     Poor  "
      ]
     },
     "execution_count": 5,
     "metadata": {},
     "output_type": "execute_result"
    }
   ],
   "source": [
    "df_final[filter_cols].head()"
   ]
  },
  {
   "cell_type": "code",
   "execution_count": null,
   "metadata": {},
   "outputs": [],
   "source": [
    "# for col in filter_cols:\n",
    "#     print(df_final[col].unique())"
   ]
  },
  {
   "cell_type": "code",
   "execution_count": 6,
   "metadata": {},
   "outputs": [
    {
     "data": {
      "text/plain": [
       "(424, 92)"
      ]
     },
     "execution_count": 6,
     "metadata": {},
     "output_type": "execute_result"
    }
   ],
   "source": [
    "# df_final[filter_cols].get_dummies()\n",
    "df_final_dummies = pd.get_dummies(df_final, columns=filter_cols)\n",
    "df_final_dummies.shape"
   ]
  },
  {
   "cell_type": "code",
   "execution_count": 7,
   "metadata": {},
   "outputs": [],
   "source": [
    "meta_cols = ['board_name', 'url', 'Overall Rating',\n",
    "             'Fits Boot size (US)', 'Manufactured in', 'year']"
   ]
  },
  {
   "cell_type": "markdown",
   "metadata": {},
   "source": [
    "### ANNOY"
   ]
  },
  {
   "cell_type": "code",
   "execution_count": 11,
   "metadata": {},
   "outputs": [],
   "source": [
    "f = df_final_dummies.shape[1] - len(meta_cols)"
   ]
  },
  {
   "cell_type": "code",
   "execution_count": 27,
   "metadata": {},
   "outputs": [],
   "source": [
    "a = AnnoyIndex(f, 'angular')"
   ]
  },
  {
   "cell_type": "code",
   "execution_count": 28,
   "metadata": {},
   "outputs": [],
   "source": [
    "for idx, row in df_final_dummies.drop(labels=meta_cols, axis=1).iterrows():\n",
    "     a.add_item(idx, row.to_list())\n",
    "#     print(row.values)"
   ]
  },
  {
   "cell_type": "code",
   "execution_count": 31,
   "metadata": {},
   "outputs": [
    {
     "data": {
      "text/plain": [
       "True"
      ]
     },
     "execution_count": 31,
     "metadata": {},
     "output_type": "execute_result"
    }
   ],
   "source": [
    "a.build(10)\n",
    "a.save('../model/annoy_men_angular_20201216.ann')"
   ]
  },
  {
   "cell_type": "code",
   "execution_count": 33,
   "metadata": {},
   "outputs": [
    {
     "data": {
      "text/plain": [
       "True"
      ]
     },
     "execution_count": 33,
     "metadata": {},
     "output_type": "execute_result"
    }
   ],
   "source": [
    "u = AnnoyIndex(f, 'angular')\n",
    "u.load('../model/annoy_men_angular_20201216.ann') # super fast, will just mmap the file"
   ]
  },
  {
   "cell_type": "code",
   "execution_count": 34,
   "metadata": {},
   "outputs": [
    {
     "name": "stdout",
     "output_type": "stream",
     "text": [
      "[173, 234, 177, 368, 205, 229, 240, 271, 283, 303, 306, 315, 417, 421, 423, 51, 108, 109, 145, 209, 293, 297, 316, 327, 332, 342, 351, 413, 22, 80, 81, 111, 118, 119, 154, 156, 169, 203, 264, 287, 318, 323, 335, 341, 350, 354, 369, 374, 385, 406, 411, 412, 414, 379, 0, 15, 18, 23, 24, 27, 32, 36, 59, 60, 61, 69, 74, 91, 120, 123, 124, 125, 133, 159, 163, 167, 176, 179, 237, 239, 241, 246, 247, 251, 276, 277, 280, 325, 340, 344, 355, 371, 390, 393, 38, 54, 78, 89, 96, 101, 103, 104, 105, 106, 115, 127, 149, 153, 165, 214, 248, 268, 281, 284, 288, 305, 309, 311, 320, 322, 329, 333, 339, 345, 346, 352, 362, 365, 376, 381, 407, 410, 1, 6, 12, 20, 25, 45, 50, 68, 70, 71, 77, 92, 94, 98, 107, 114, 121, 157, 168, 175, 180, 181, 184, 185, 188, 208, 216, 222, 230, 232, 244, 245, 250, 267, 278, 308, 321, 328, 349, 356, 361, 373, 377, 383, 403, 408, 7, 13, 14, 19, 28, 35, 37, 40, 48, 75, 93, 143, 148, 158, 166, 193, 201, 204, 206, 211, 213, 228, 235, 236, 238, 266, 270, 272, 274, 275, 282, 290, 295, 336, 338, 347, 353, 367, 378, 384, 394, 405, 409, 416, 419, 249, 8, 11, 21, 26, 30, 31, 33, 34, 41, 42, 47, 62, 64, 67, 73, 76, 88, 95, 97, 100, 102, 110, 112, 117, 129, 142, 144, 146, 147, 151, 155, 160, 161, 162, 164, 171, 172, 186, 207, 215, 217, 220, 223, 224, 225, 242, 252, 257, 258, 259, 260, 261, 273, 285, 289, 291, 298, 307, 324, 330, 334, 357, 360, 363, 370, 372, 375, 380, 395, 396, 402, 418, 10, 39, 53, 63, 66, 72, 79, 82, 113, 126, 128, 131, 134, 137, 138, 139, 141, 152, 183, 189, 192, 198, 199, 212, 219, 221, 226, 227, 231, 233, 243, 254, 256, 263, 269, 279, 286, 294, 299, 302, 304, 310, 313, 317, 319, 337, 343, 348, 359, 364, 366, 382, 386, 398, 399, 401, 404, 415, 420, 422, 202, 3, 9, 16, 17, 44, 46, 55, 56, 57, 58, 65, 83, 86, 87, 90, 116, 122, 130, 135, 136, 140, 150, 170, 174, 178, 182, 190, 191, 200, 253, 262, 312, 326, 331, 387, 388, 391, 397, 196, 4, 5, 29, 43, 49, 52, 84, 85, 99, 187, 194, 195, 197, 210, 218, 255, 292, 296, 314, 358, 389, 392, 400, 2, 132, 265, 300, 301]\n"
     ]
    }
   ],
   "source": [
    "print(u.get_nns_by_item(173, 1000)) # will find the 1000 nearest neighbors"
   ]
  },
  {
   "cell_type": "markdown",
   "metadata": {},
   "source": [
    "### Pairwise distance"
   ]
  },
  {
   "cell_type": "code",
   "execution_count": 21,
   "metadata": {},
   "outputs": [],
   "source": [
    "from scipy.spatial.distance import squareform, pdist\n",
    "\n",
    "def distance_function(r):\n",
    "    dists = pdist(r, 'jaccard')\n",
    "    \n",
    "    return pd.DataFrame(squareform(dists))"
   ]
  },
  {
   "cell_type": "code",
   "execution_count": 22,
   "metadata": {},
   "outputs": [],
   "source": [
    "df_dist = distance_function(df_final_dummies.drop(labels=meta_cols, axis=1).values)"
   ]
  },
  {
   "cell_type": "code",
   "execution_count": 23,
   "metadata": {},
   "outputs": [],
   "source": [
    "reference_index = df_final[df_final['board_name'].str.contains('Jones  Mountain Twin')].index[0]"
   ]
  },
  {
   "cell_type": "code",
   "execution_count": 24,
   "metadata": {},
   "outputs": [
    {
     "data": {
      "text/plain": [
       "234    0.235294\n",
       "177    0.333333\n",
       "368    0.333333\n",
       "205    0.421053\n",
       "229    0.421053\n",
       "Name: 173, dtype: float64"
      ]
     },
     "execution_count": 24,
     "metadata": {},
     "output_type": "execute_result"
    }
   ],
   "source": [
    "target = df_dist.iloc[:, reference_index].nsmallest(6)\n",
    "target = target.iloc[1:]\n",
    "target"
   ]
  },
  {
   "cell_type": "code",
   "execution_count": null,
   "metadata": {},
   "outputs": [],
   "source": [
    "df_rec = df_final.iloc[taget_index, :]\n",
    "df_rec['similarity'] =  target.values"
   ]
  },
  {
   "cell_type": "code",
   "execution_count": null,
   "metadata": {},
   "outputs": [],
   "source": [
    "df_rec"
   ]
  },
  {
   "cell_type": "code",
   "execution_count": null,
   "metadata": {},
   "outputs": [],
   "source": []
  }
 ],
 "metadata": {
  "instance_type": "ml.t3.medium",
  "kernelspec": {
   "display_name": "Python 3 (Data Science)",
   "language": "python",
   "name": "python3__SAGEMAKER_INTERNAL__arn:aws:sagemaker:us-east-1:081325390199:image/datascience-1.0"
  },
  "language_info": {
   "codemirror_mode": {
    "name": "ipython",
    "version": 3
   },
   "file_extension": ".py",
   "mimetype": "text/x-python",
   "name": "python",
   "nbconvert_exporter": "python",
   "pygments_lexer": "ipython3",
   "version": "3.7.9"
  }
 },
 "nbformat": 4,
 "nbformat_minor": 4
}
