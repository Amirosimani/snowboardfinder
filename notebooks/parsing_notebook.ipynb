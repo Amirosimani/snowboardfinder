{
 "cells": [
  {
   "cell_type": "code",
   "execution_count": 5,
   "metadata": {},
   "outputs": [],
   "source": [
    "import requests\n",
    "import pandas as pd\n",
    "import time\n",
    "from tqdm import tqdm\n",
    "import re\n",
    "\n",
    "from bs4 import BeautifulSoup\n",
    "from bs4.dammit import EncodingDetector\n",
    "from selenium import webdriver\n",
    "\n",
    "from sklearn.preprocessing import OneHotEncoder\n",
    "from annoy import AnnoyIndex"
   ]
  },
  {
   "cell_type": "code",
   "execution_count": null,
   "metadata": {},
   "outputs": [],
   "source": [
    "def get_tables(html_table, tag=['th', 'tr', 'td']):\n",
    "    table_value = []\n",
    "\n",
    "\n",
    "    # for my_table in tables:\n",
    "\n",
    "    # You can find children with multiple tags by passing a list of strings\n",
    "    rows = html_table.findChildren(tag)\n",
    "\n",
    "    for row in rows:\n",
    "        cells = row.findChildren(tag)\n",
    "        for cell in cells:\n",
    "            value = cell.string\n",
    "            if value:\n",
    "                table_value.append(value.strip())\n",
    "                # print(\"The value in this cell is %s\" % value)\n",
    "            else:\n",
    "                table_value.append(\"None\")\n",
    "    return dict(zip(table_value[::2], table_value[1::2]))"
   ]
  },
  {
   "cell_type": "code",
   "execution_count": null,
   "metadata": {},
   "outputs": [],
   "source": [
    "def parse_page(url):\n",
    "    \n",
    "    # get the html file\n",
    "    page = requests.get(url)\n",
    "    \n",
    "    if page.status_code == 200:\n",
    "        soup = BeautifulSoup(page.content, 'html.parser')\n",
    "\n",
    "        # get all the tables\n",
    "        tables = soup.findChildren('table')\n",
    "\n",
    "        # only the first 4 tables are useful\n",
    "        tables = tables[:4]\n",
    "\n",
    "\n",
    "        # UPPER LEFT TABLE\n",
    "        table_ul = get_tables(tables[0])\n",
    "\n",
    "        # UPPER RIGHT TABLE\n",
    "        rows_html = tables[1].findAll(\"span\", {\"class\": lambda x: x and x.startswith(\"rating\")})\n",
    "        rows = [x.get_text() for x in rows_html]\n",
    "        table_ur = dict(zip(rows[::2], rows[1::2]))\n",
    "\n",
    "#         # BUTTOM TABLES\n",
    "\n",
    "#         table_b = {}\n",
    "#         for t in tables[2:]:\n",
    "#             l = get_tables(t, ['td', 'p', 'tr'])\n",
    "#             table_b.update(l)\n",
    "\n",
    "\n",
    "        all_items = {**table_ul, **table_ur}\n",
    "    \n",
    "    else:\n",
    "        print(page.status_code)\n",
    "\n",
    "\n",
    "    return all_items"
   ]
  },
  {
   "cell_type": "code",
   "execution_count": null,
   "metadata": {},
   "outputs": [],
   "source": [
    "def get_date(input_text):\n",
    "    \n",
    "    year = re.findall('[0-9]{4}', input_text)\n",
    "    \n",
    "    return year"
   ]
  },
  {
   "cell_type": "code",
   "execution_count": null,
   "metadata": {},
   "outputs": [],
   "source": [
    "def get_all_boards(gender):\n",
    "    \n",
    "    browser = webdriver.Safari()\n",
    "    browser.get(\"https://thegoodride.com/snowboard-reviews/?{}=1\".format(gender))\n",
    "    time.sleep(1)\n",
    "\n",
    "    button = browser.find_element_by_xpath('/html/body/div[5]/div/div/div/div[3]/form/div[1]/div[42]/a')\n",
    "    browser.execute_script(\"arguments[0].click();\", button)\n",
    "    time.sleep(400)\n",
    "    html = browser.page_source\n",
    "\n",
    "    browser.close()\n",
    "    \n",
    "    return html\n"
   ]
  },
  {
   "cell_type": "code",
   "execution_count": null,
   "metadata": {},
   "outputs": [],
   "source": [
    "genders = ['mens', 'womens']\n",
    "\n",
    "for g in genders:\n",
    "    \n",
    "    raw_html = get_all_boards(g)\n",
    "    \n",
    "    soup = BeautifulSoup(raw_html, \"html.parser\")\n",
    "    rows_html = soup.findAll(\"div\", {\"class\": \"board-reviews animate\"})\n",
    "\n",
    "    all_boards = []\n",
    "        \n",
    "    for board in rows_html:\n",
    "        board_name = board.select('h4')[0].text.strip()\n",
    "        review_url = board.select('a', href=True)[0]['href']\n",
    "        all_boards.append([board_name, review_url])\n",
    "        \n",
    "    df_url = pd.DataFrame(all_boards, columns=['board_name', 'url'])\n",
    "    print(df_url.shape)\n",
    "\n",
    "    df_url.to_csv('../data/all_{}_boards.csv'.format(g), index=False)\n",
    "    \n",
    "    rating_list = []\n",
    "    for url in tqdm(df_url['url']):\n",
    "        d = parse_page(url)\n",
    "        assert len(d) == 18\n",
    "        rating_list.append(d)\n",
    "        time.sleep(.1)\n",
    "        \n",
    "    df_rating = pd.DataFrame(rating_list)\n",
    "    df_final = pd.concat([df_url, df_rating], axis=1)\n",
    "    df_final['year'] = df_final['url'].apply(get_date)\n",
    "    df_final.to_csv('../data/{}_board_20201215.csv'.format(g), index=False)"
   ]
  },
  {
   "cell_type": "code",
   "execution_count": null,
   "metadata": {},
   "outputs": [],
   "source": [
    "for col in df_final.iloc[:, 2:]:\n",
    "    print(df_final[col].unique())"
   ]
  },
  {
   "cell_type": "code",
   "execution_count": null,
   "metadata": {},
   "outputs": [],
   "source": [
    "df_final.head()"
   ]
  },
  {
   "cell_type": "markdown",
   "metadata": {},
   "source": [
    "# Board Recomendation"
   ]
  },
  {
   "cell_type": "code",
   "execution_count": 91,
   "metadata": {},
   "outputs": [
    {
     "data": {
      "text/plain": [
       "(424, 21)"
      ]
     },
     "execution_count": 91,
     "metadata": {},
     "output_type": "execute_result"
    }
   ],
   "source": [
    "df_final = pd.read_csv('../data/mens_board_20201215.csv')\n",
    "df_final.shape"
   ]
  },
  {
   "cell_type": "code",
   "execution_count": 92,
   "metadata": {},
   "outputs": [],
   "source": [
    "filter_cols = ['Riding Style', 'Riding Level', 'Shape', 'Camber Profile',\n",
    "       'Stance', 'Approx. Weight', 'Powder', 'Turning Experience', 'Carving',\n",
    "       'Speed', 'Uneven Terrain', 'Switch', 'Jumps', 'Jibbing', 'Pipe' ]"
   ]
  },
  {
   "cell_type": "code",
   "execution_count": 93,
   "metadata": {},
   "outputs": [
    {
     "data": {
      "text/html": [
       "<div>\n",
       "<style scoped>\n",
       "    .dataframe tbody tr th:only-of-type {\n",
       "        vertical-align: middle;\n",
       "    }\n",
       "\n",
       "    .dataframe tbody tr th {\n",
       "        vertical-align: top;\n",
       "    }\n",
       "\n",
       "    .dataframe thead th {\n",
       "        text-align: right;\n",
       "    }\n",
       "</style>\n",
       "<table border=\"1\" class=\"dataframe\">\n",
       "  <thead>\n",
       "    <tr style=\"text-align: right;\">\n",
       "      <th></th>\n",
       "      <th>Riding Style</th>\n",
       "      <th>Riding Level</th>\n",
       "      <th>Shape</th>\n",
       "      <th>Camber Profile</th>\n",
       "      <th>Stance</th>\n",
       "      <th>Approx. Weight</th>\n",
       "      <th>Powder</th>\n",
       "      <th>Turning Experience</th>\n",
       "      <th>Carving</th>\n",
       "      <th>Speed</th>\n",
       "      <th>Uneven Terrain</th>\n",
       "      <th>Switch</th>\n",
       "      <th>Jumps</th>\n",
       "      <th>Jibbing</th>\n",
       "      <th>Pipe</th>\n",
       "    </tr>\n",
       "  </thead>\n",
       "  <tbody>\n",
       "    <tr>\n",
       "      <th>0</th>\n",
       "      <td>All Mountain Freestyle</td>\n",
       "      <td>Beginner - Expert</td>\n",
       "      <td>True Twin</td>\n",
       "      <td>Hybrid Camber</td>\n",
       "      <td>Centered</td>\n",
       "      <td>Feels Normal</td>\n",
       "      <td>Average</td>\n",
       "      <td>Good</td>\n",
       "      <td>Good</td>\n",
       "      <td>Great</td>\n",
       "      <td>Good</td>\n",
       "      <td>Great</td>\n",
       "      <td>Good</td>\n",
       "      <td>Average</td>\n",
       "      <td>Great</td>\n",
       "    </tr>\n",
       "    <tr>\n",
       "      <th>1</th>\n",
       "      <td>Freestyle</td>\n",
       "      <td>Intermediate - Expert</td>\n",
       "      <td>True Twin</td>\n",
       "      <td>Hybrid Camber</td>\n",
       "      <td>Centered</td>\n",
       "      <td>Feels Normal</td>\n",
       "      <td>Average</td>\n",
       "      <td>Average</td>\n",
       "      <td>Average</td>\n",
       "      <td>Average</td>\n",
       "      <td>Good</td>\n",
       "      <td>Great</td>\n",
       "      <td>Good</td>\n",
       "      <td>Great</td>\n",
       "      <td>Good</td>\n",
       "    </tr>\n",
       "    <tr>\n",
       "      <th>2</th>\n",
       "      <td>Freeride</td>\n",
       "      <td>Expert</td>\n",
       "      <td>Tapered Directional</td>\n",
       "      <td>Traditional Camber</td>\n",
       "      <td>Setback over 20mm</td>\n",
       "      <td>Feels Heavy</td>\n",
       "      <td>Poor</td>\n",
       "      <td>Great</td>\n",
       "      <td>Excellent</td>\n",
       "      <td>Excellent</td>\n",
       "      <td>Poor</td>\n",
       "      <td>Average</td>\n",
       "      <td>Good</td>\n",
       "      <td>Poor</td>\n",
       "      <td>Poor</td>\n",
       "    </tr>\n",
       "    <tr>\n",
       "      <th>3</th>\n",
       "      <td>Alternative Freeride</td>\n",
       "      <td>Advanced - Expert</td>\n",
       "      <td>Tapered Directional</td>\n",
       "      <td>Directional Camber</td>\n",
       "      <td>Setback over 20mm</td>\n",
       "      <td>Feels Normal</td>\n",
       "      <td>Good</td>\n",
       "      <td>Great</td>\n",
       "      <td>Great</td>\n",
       "      <td>Great</td>\n",
       "      <td>Great</td>\n",
       "      <td>Poor</td>\n",
       "      <td>Average</td>\n",
       "      <td>Poor</td>\n",
       "      <td>Average</td>\n",
       "    </tr>\n",
       "    <tr>\n",
       "      <th>4</th>\n",
       "      <td>Freeride</td>\n",
       "      <td>Expert</td>\n",
       "      <td>Tapered Directional</td>\n",
       "      <td>Mostly Camber</td>\n",
       "      <td>Setback over 20mm</td>\n",
       "      <td>Feels Normal</td>\n",
       "      <td>Poor</td>\n",
       "      <td>Excellent</td>\n",
       "      <td>Excellent</td>\n",
       "      <td>Great</td>\n",
       "      <td>Average</td>\n",
       "      <td>Average</td>\n",
       "      <td>Average</td>\n",
       "      <td>Poor</td>\n",
       "      <td>Poor</td>\n",
       "    </tr>\n",
       "  </tbody>\n",
       "</table>\n",
       "</div>"
      ],
      "text/plain": [
       "             Riding Style           Riding Level                Shape  \\\n",
       "0  All Mountain Freestyle      Beginner - Expert            True Twin   \n",
       "1               Freestyle  Intermediate - Expert            True Twin   \n",
       "2                Freeride                 Expert  Tapered Directional   \n",
       "3    Alternative Freeride      Advanced - Expert  Tapered Directional   \n",
       "4                Freeride                 Expert  Tapered Directional   \n",
       "\n",
       "       Camber Profile             Stance Approx. Weight   Powder  \\\n",
       "0       Hybrid Camber           Centered   Feels Normal  Average   \n",
       "1       Hybrid Camber           Centered   Feels Normal  Average   \n",
       "2  Traditional Camber  Setback over 20mm    Feels Heavy     Poor   \n",
       "3  Directional Camber  Setback over 20mm   Feels Normal     Good   \n",
       "4       Mostly Camber  Setback over 20mm   Feels Normal     Poor   \n",
       "\n",
       "  Turning Experience    Carving      Speed Uneven Terrain   Switch    Jumps  \\\n",
       "0               Good       Good      Great           Good    Great     Good   \n",
       "1            Average    Average    Average           Good    Great     Good   \n",
       "2              Great  Excellent  Excellent           Poor  Average     Good   \n",
       "3              Great      Great      Great          Great     Poor  Average   \n",
       "4          Excellent  Excellent      Great        Average  Average  Average   \n",
       "\n",
       "   Jibbing     Pipe  \n",
       "0  Average    Great  \n",
       "1    Great     Good  \n",
       "2     Poor     Poor  \n",
       "3     Poor  Average  \n",
       "4     Poor     Poor  "
      ]
     },
     "execution_count": 93,
     "metadata": {},
     "output_type": "execute_result"
    }
   ],
   "source": [
    "df_final[filter_cols].head()"
   ]
  },
  {
   "cell_type": "code",
   "execution_count": 94,
   "metadata": {},
   "outputs": [],
   "source": [
    "# for col in filter_cols:\n",
    "#     print(df_final[col].unique())"
   ]
  },
  {
   "cell_type": "code",
   "execution_count": 95,
   "metadata": {},
   "outputs": [
    {
     "data": {
      "text/plain": [
       "(424, 92)"
      ]
     },
     "execution_count": 95,
     "metadata": {},
     "output_type": "execute_result"
    }
   ],
   "source": [
    "# df_final[filter_cols].get_dummies()\n",
    "df_final_dummies = pd.get_dummies(df_final, columns=filter_cols)\n",
    "df_final_dummies.shape"
   ]
  },
  {
   "cell_type": "code",
   "execution_count": 96,
   "metadata": {},
   "outputs": [],
   "source": [
    "meta_cols = ['board_name', 'url', 'Overall Rating',\n",
    "             'Fits Boot size (US)', 'Manufactured in', 'year']"
   ]
  },
  {
   "cell_type": "markdown",
   "metadata": {},
   "source": [
    "### ANNOY"
   ]
  },
  {
   "cell_type": "code",
   "execution_count": 12,
   "metadata": {},
   "outputs": [],
   "source": [
    "f = df_final.shape[1] - len(meta_cols)"
   ]
  },
  {
   "cell_type": "code",
   "execution_count": 15,
   "metadata": {},
   "outputs": [],
   "source": [
    "a = AnnoyIndex(f, 'euclidean')"
   ]
  },
  {
   "cell_type": "code",
   "execution_count": 16,
   "metadata": {},
   "outputs": [],
   "source": [
    "for idx, row in df_final.drop(labels=meta_cols, axis=1).iterrows():\n",
    "     a.add_item(idx, row.to_list())\n",
    "#     print(row.values)"
   ]
  },
  {
   "cell_type": "code",
   "execution_count": null,
   "metadata": {},
   "outputs": [],
   "source": [
    "a.build(10)"
   ]
  },
  {
   "cell_type": "code",
   "execution_count": null,
   "metadata": {},
   "outputs": [],
   "source": [
    "a.save('test.ann')\n",
    "\n",
    "# ...\n",
    "\n",
    "u = AnnoyIndex(f, 'euclidean')\n",
    "u.load('test.ann') # super fast, will just mmap the file\n",
    "print(u.get_nns_by_item(0, 1000)) # will find the 1000 nearest neighbors"
   ]
  },
  {
   "cell_type": "markdown",
   "metadata": {},
   "source": [
    "### Pairwise distance"
   ]
  },
  {
   "cell_type": "code",
   "execution_count": 97,
   "metadata": {},
   "outputs": [],
   "source": [
    "from scipy.spatial.distance import squareform, pdist\n",
    "\n",
    "def distance_function(r):\n",
    "    dists = pdist(r, 'jaccard')\n",
    "    \n",
    "    return pd.DataFrame(squareform(dists))"
   ]
  },
  {
   "cell_type": "code",
   "execution_count": 98,
   "metadata": {},
   "outputs": [],
   "source": [
    "df_dist = distance_function(df_final_dummies.drop(labels=meta_cols, axis=1).values)"
   ]
  },
  {
   "cell_type": "code",
   "execution_count": 99,
   "metadata": {},
   "outputs": [],
   "source": [
    "reference_index = df_final[df_final['board_name'].str.contains('Jones  Mountain Twin')].index[0]"
   ]
  },
  {
   "cell_type": "code",
   "execution_count": 100,
   "metadata": {},
   "outputs": [
    {
     "data": {
      "text/plain": [
       "234    0.235294\n",
       "177    0.333333\n",
       "368    0.333333\n",
       "205    0.421053\n",
       "229    0.421053\n",
       "Name: 173, dtype: float64"
      ]
     },
     "execution_count": 100,
     "metadata": {},
     "output_type": "execute_result"
    }
   ],
   "source": [
    "target = df_dist.iloc[:, reference_index].nsmallest(6)\n",
    "target = target.iloc[1:]\n",
    "target"
   ]
  },
  {
   "cell_type": "code",
   "execution_count": 109,
   "metadata": {},
   "outputs": [
    {
     "name": "stderr",
     "output_type": "stream",
     "text": [
      "/Users/Amiros/opt/anaconda3/envs/snowboardfinder/lib/python3.7/site-packages/ipykernel_launcher.py:2: SettingWithCopyWarning: \n",
      "A value is trying to be set on a copy of a slice from a DataFrame.\n",
      "Try using .loc[row_indexer,col_indexer] = value instead\n",
      "\n",
      "See the caveats in the documentation: https://pandas.pydata.org/pandas-docs/stable/user_guide/indexing.html#returning-a-view-versus-a-copy\n",
      "  \n"
     ]
    }
   ],
   "source": [
    "df_rec = df_final.iloc[taget_index, :]\n",
    "df_rec['similarity'] =  target.values"
   ]
  },
  {
   "cell_type": "code",
   "execution_count": 110,
   "metadata": {},
   "outputs": [
    {
     "data": {
      "text/html": [
       "<div>\n",
       "<style scoped>\n",
       "    .dataframe tbody tr th:only-of-type {\n",
       "        vertical-align: middle;\n",
       "    }\n",
       "\n",
       "    .dataframe tbody tr th {\n",
       "        vertical-align: top;\n",
       "    }\n",
       "\n",
       "    .dataframe thead th {\n",
       "        text-align: right;\n",
       "    }\n",
       "</style>\n",
       "<table border=\"1\" class=\"dataframe\">\n",
       "  <thead>\n",
       "    <tr style=\"text-align: right;\">\n",
       "      <th></th>\n",
       "      <th>board_name</th>\n",
       "      <th>url</th>\n",
       "      <th>Overall Rating</th>\n",
       "      <th>Riding Style</th>\n",
       "      <th>Riding Level</th>\n",
       "      <th>Fits Boot size (US)</th>\n",
       "      <th>Manufactured in</th>\n",
       "      <th>Shape</th>\n",
       "      <th>Camber Profile</th>\n",
       "      <th>Stance</th>\n",
       "      <th>...</th>\n",
       "      <th>Turning Experience</th>\n",
       "      <th>Carving</th>\n",
       "      <th>Speed</th>\n",
       "      <th>Uneven Terrain</th>\n",
       "      <th>Switch</th>\n",
       "      <th>Jumps</th>\n",
       "      <th>Jibbing</th>\n",
       "      <th>Pipe</th>\n",
       "      <th>year</th>\n",
       "      <th>similarity</th>\n",
       "    </tr>\n",
       "  </thead>\n",
       "  <tbody>\n",
       "    <tr>\n",
       "      <th>234</th>\n",
       "      <td>Lib Tech Terrain Wrecker</td>\n",
       "      <td>https://thegoodride.com/snowboard-reviews/lib-...</td>\n",
       "      <td>Loved it!</td>\n",
       "      <td>All Mountain</td>\n",
       "      <td>Beginner - Expert</td>\n",
       "      <td>&lt; 8, 8-10, 10-12, &gt; 12</td>\n",
       "      <td>USA by Mervin</td>\n",
       "      <td>Directional Twin</td>\n",
       "      <td>Hybrid Rocker</td>\n",
       "      <td>Centered</td>\n",
       "      <td>...</td>\n",
       "      <td>Good</td>\n",
       "      <td>Good</td>\n",
       "      <td>Good</td>\n",
       "      <td>Good</td>\n",
       "      <td>Great</td>\n",
       "      <td>Great</td>\n",
       "      <td>Good</td>\n",
       "      <td>Great</td>\n",
       "      <td>['2018', '2020']</td>\n",
       "      <td>0.235294</td>\n",
       "    </tr>\n",
       "    <tr>\n",
       "      <th>177</th>\n",
       "      <td>Jones Ultra Mountain Twin</td>\n",
       "      <td>https://thegoodride.com/snowboard-reviews/jone...</td>\n",
       "      <td>Loved it!</td>\n",
       "      <td>All Mountain</td>\n",
       "      <td>Intermediate - Expert</td>\n",
       "      <td>8-10, 10-12</td>\n",
       "      <td>Dubai by SWS</td>\n",
       "      <td>Directional Twin</td>\n",
       "      <td>Hybrid Camber</td>\n",
       "      <td>Centered</td>\n",
       "      <td>...</td>\n",
       "      <td>Good</td>\n",
       "      <td>Good</td>\n",
       "      <td>Great</td>\n",
       "      <td>Good</td>\n",
       "      <td>Great</td>\n",
       "      <td>Great</td>\n",
       "      <td>Average</td>\n",
       "      <td>Good</td>\n",
       "      <td>['2016', '2021']</td>\n",
       "      <td>0.333333</td>\n",
       "    </tr>\n",
       "    <tr>\n",
       "      <th>368</th>\n",
       "      <td>Sims Dealers Choice</td>\n",
       "      <td>https://thegoodride.com/snowboard-reviews/sims...</td>\n",
       "      <td>Liked it!</td>\n",
       "      <td>All Mountain Freestyle</td>\n",
       "      <td>Intermediate - Expert</td>\n",
       "      <td>8-10, 10-12</td>\n",
       "      <td>USA by Never Summer</td>\n",
       "      <td>Directional Twin</td>\n",
       "      <td>Hybrid Camber</td>\n",
       "      <td>Centered</td>\n",
       "      <td>...</td>\n",
       "      <td>Good</td>\n",
       "      <td>Good</td>\n",
       "      <td>Good</td>\n",
       "      <td>Good</td>\n",
       "      <td>Great</td>\n",
       "      <td>Good</td>\n",
       "      <td>Good</td>\n",
       "      <td>Good</td>\n",
       "      <td>['2017']</td>\n",
       "      <td>0.333333</td>\n",
       "    </tr>\n",
       "    <tr>\n",
       "      <th>205</th>\n",
       "      <td>Lib Tech Box Knife</td>\n",
       "      <td>https://thegoodride.com/snowboard-reviews/lib-...</td>\n",
       "      <td>None</td>\n",
       "      <td>Freestyle</td>\n",
       "      <td>Intermediate - Expert</td>\n",
       "      <td>&lt; 8, 8-10, 10-12</td>\n",
       "      <td>USA by Mervin</td>\n",
       "      <td>True Twin</td>\n",
       "      <td>Hybrid Camber</td>\n",
       "      <td>Centered</td>\n",
       "      <td>...</td>\n",
       "      <td>Good</td>\n",
       "      <td>Good</td>\n",
       "      <td>Good</td>\n",
       "      <td>Good</td>\n",
       "      <td>Great</td>\n",
       "      <td>Great</td>\n",
       "      <td>Good</td>\n",
       "      <td>Great</td>\n",
       "      <td>['2018', '2020']</td>\n",
       "      <td>0.421053</td>\n",
       "    </tr>\n",
       "    <tr>\n",
       "      <th>229</th>\n",
       "      <td>Lib Tech Skunk Ape HP</td>\n",
       "      <td>https://thegoodride.com/snowboard-reviews/lib-...</td>\n",
       "      <td>Liked it!</td>\n",
       "      <td>All Mountain</td>\n",
       "      <td>Beginner - Expert</td>\n",
       "      <td>&gt; 12</td>\n",
       "      <td>USA by Mervin</td>\n",
       "      <td>Directional Twin</td>\n",
       "      <td>Hybrid Rocker</td>\n",
       "      <td>Setback -12.5mm</td>\n",
       "      <td>...</td>\n",
       "      <td>Good</td>\n",
       "      <td>Good</td>\n",
       "      <td>Good</td>\n",
       "      <td>Good</td>\n",
       "      <td>Good</td>\n",
       "      <td>Great</td>\n",
       "      <td>Good</td>\n",
       "      <td>Great</td>\n",
       "      <td>['2013', '2020']</td>\n",
       "      <td>0.421053</td>\n",
       "    </tr>\n",
       "  </tbody>\n",
       "</table>\n",
       "<p>5 rows × 22 columns</p>\n",
       "</div>"
      ],
      "text/plain": [
       "                    board_name  \\\n",
       "234   Lib Tech Terrain Wrecker   \n",
       "177  Jones Ultra Mountain Twin   \n",
       "368        Sims Dealers Choice   \n",
       "205         Lib Tech Box Knife   \n",
       "229      Lib Tech Skunk Ape HP   \n",
       "\n",
       "                                                   url Overall Rating  \\\n",
       "234  https://thegoodride.com/snowboard-reviews/lib-...      Loved it!   \n",
       "177  https://thegoodride.com/snowboard-reviews/jone...      Loved it!   \n",
       "368  https://thegoodride.com/snowboard-reviews/sims...      Liked it!   \n",
       "205  https://thegoodride.com/snowboard-reviews/lib-...           None   \n",
       "229  https://thegoodride.com/snowboard-reviews/lib-...      Liked it!   \n",
       "\n",
       "               Riding Style           Riding Level     Fits Boot size (US)  \\\n",
       "234            All Mountain      Beginner - Expert  < 8, 8-10, 10-12, > 12   \n",
       "177            All Mountain  Intermediate - Expert             8-10, 10-12   \n",
       "368  All Mountain Freestyle  Intermediate - Expert             8-10, 10-12   \n",
       "205               Freestyle  Intermediate - Expert        < 8, 8-10, 10-12   \n",
       "229            All Mountain      Beginner - Expert                    > 12   \n",
       "\n",
       "         Manufactured in             Shape Camber Profile           Stance  \\\n",
       "234        USA by Mervin  Directional Twin  Hybrid Rocker         Centered   \n",
       "177         Dubai by SWS  Directional Twin  Hybrid Camber         Centered   \n",
       "368  USA by Never Summer  Directional Twin  Hybrid Camber         Centered   \n",
       "205        USA by Mervin         True Twin  Hybrid Camber         Centered   \n",
       "229        USA by Mervin  Directional Twin  Hybrid Rocker  Setback -12.5mm   \n",
       "\n",
       "     ... Turning Experience Carving  Speed Uneven Terrain Switch  Jumps  \\\n",
       "234  ...               Good    Good   Good           Good  Great  Great   \n",
       "177  ...               Good    Good  Great           Good  Great  Great   \n",
       "368  ...               Good    Good   Good           Good  Great   Good   \n",
       "205  ...               Good    Good   Good           Good  Great  Great   \n",
       "229  ...               Good    Good   Good           Good   Good  Great   \n",
       "\n",
       "     Jibbing   Pipe              year similarity  \n",
       "234     Good  Great  ['2018', '2020']   0.235294  \n",
       "177  Average   Good  ['2016', '2021']   0.333333  \n",
       "368     Good   Good          ['2017']   0.333333  \n",
       "205     Good  Great  ['2018', '2020']   0.421053  \n",
       "229     Good  Great  ['2013', '2020']   0.421053  \n",
       "\n",
       "[5 rows x 22 columns]"
      ]
     },
     "execution_count": 110,
     "metadata": {},
     "output_type": "execute_result"
    }
   ],
   "source": [
    "df_rec"
   ]
  },
  {
   "cell_type": "code",
   "execution_count": null,
   "metadata": {},
   "outputs": [],
   "source": []
  }
 ],
 "metadata": {
  "kernelspec": {
   "display_name": "Python 3",
   "language": "python",
   "name": "python3"
  },
  "language_info": {
   "codemirror_mode": {
    "name": "ipython",
    "version": 3
   },
   "file_extension": ".py",
   "mimetype": "text/x-python",
   "name": "python",
   "nbconvert_exporter": "python",
   "pygments_lexer": "ipython3",
   "version": "3.7.9"
  }
 },
 "nbformat": 4,
 "nbformat_minor": 4
}
